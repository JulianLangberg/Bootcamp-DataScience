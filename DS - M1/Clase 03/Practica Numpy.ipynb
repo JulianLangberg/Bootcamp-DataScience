{
 "cells": [
  {
   "cell_type": "code",
   "execution_count": 4,
   "metadata": {},
   "outputs": [],
   "source": [
    "import numpy as np\n"
   ]
  },
  {
   "cell_type": "code",
   "execution_count": 5,
   "metadata": {},
   "outputs": [],
   "source": [
    "matriz = [[1,2,3],\n",
    "          [4,5,6],\n",
    "          [6,7,8]]"
   ]
  },
  {
   "cell_type": "code",
   "execution_count": 6,
   "metadata": {},
   "outputs": [
    {
     "data": {
      "text/plain": [
       "(1, 3, 3)"
      ]
     },
     "execution_count": 6,
     "metadata": {},
     "output_type": "execute_result"
    }
   ],
   "source": [
    "a = np.array([matriz])\n",
    "a.shape"
   ]
  },
  {
   "cell_type": "code",
   "execution_count": 7,
   "metadata": {},
   "outputs": [
    {
     "data": {
      "text/plain": [
       "array([[[1, 2, 3],\n",
       "        [4, 5, 6],\n",
       "        [6, 7, 8]]])"
      ]
     },
     "execution_count": 7,
     "metadata": {},
     "output_type": "execute_result"
    }
   ],
   "source": [
    "a"
   ]
  },
  {
   "cell_type": "code",
   "execution_count": 10,
   "metadata": {},
   "outputs": [
    {
     "name": "stdout",
     "output_type": "stream",
     "text": [
      "[ 0  1  2  3  4  5  6  7  8  9 10 11 12 13 14 15 16 17 18]\n"
     ]
    },
    {
     "ename": "TypeError",
     "evalue": "arange() requires stop to be specified.",
     "output_type": "error",
     "traceback": [
      "\u001b[1;31m---------------------------------------------------------------------------\u001b[0m",
      "\u001b[1;31mTypeError\u001b[0m                                 Traceback (most recent call last)",
      "\u001b[1;32mc:\\Users\\Julian\\Documents\\GitHub\\Curso ML\\Bootcamp-DataScience\\DS - M1\\Clase 03\\Practica Numpy.ipynb Cell 5\u001b[0m in \u001b[0;36m<cell line: 4>\u001b[1;34m()\u001b[0m\n\u001b[0;32m      <a href='vscode-notebook-cell:/c%3A/Users/Julian/Documents/GitHub/Curso%20ML/Bootcamp-DataScience/DS%20-%20M1/Clase%2003/Practica%20Numpy.ipynb#ch0000003?line=0'>1</a>\u001b[0m secuencia \u001b[39m=\u001b[39m np\u001b[39m.\u001b[39marange(\u001b[39m19\u001b[39m)\n\u001b[0;32m      <a href='vscode-notebook-cell:/c%3A/Users/Julian/Documents/GitHub/Curso%20ML/Bootcamp-DataScience/DS%20-%20M1/Clase%2003/Practica%20Numpy.ipynb#ch0000003?line=1'>2</a>\u001b[0m \u001b[39mprint\u001b[39m(secuencia)\n\u001b[1;32m----> <a href='vscode-notebook-cell:/c%3A/Users/Julian/Documents/GitHub/Curso%20ML/Bootcamp-DataScience/DS%20-%20M1/Clase%2003/Practica%20Numpy.ipynb#ch0000003?line=3'>4</a>\u001b[0m secuencia1 \u001b[39m=\u001b[39m np\u001b[39m.\u001b[39;49marange()\n\u001b[0;32m      <a href='vscode-notebook-cell:/c%3A/Users/Julian/Documents/GitHub/Curso%20ML/Bootcamp-DataScience/DS%20-%20M1/Clase%2003/Practica%20Numpy.ipynb#ch0000003?line=4'>5</a>\u001b[0m \u001b[39mprint\u001b[39m(secuencia1)\n",
      "\u001b[1;31mTypeError\u001b[0m: arange() requires stop to be specified."
     ]
    }
   ],
   "source": [
    "secuencia = np.arange(19)\n",
    "print(secuencia)\n",
    "\n",
    "secuencia1 = np.arange()\n",
    "print(secuencia1)"
   ]
  },
  {
   "cell_type": "code",
   "execution_count": null,
   "metadata": {},
   "outputs": [],
   "source": [
    "matriz[0]"
   ]
  },
  {
   "cell_type": "code",
   "execution_count": null,
   "metadata": {},
   "outputs": [],
   "source": [
    "espacio = np.linspace(10,0,5)\n",
    "print(espacio)"
   ]
  },
  {
   "cell_type": "code",
   "execution_count": null,
   "metadata": {},
   "outputs": [],
   "source": [
    "nada = np.empty((2,3))\n",
    "print(type(nada))"
   ]
  },
  {
   "cell_type": "code",
   "execution_count": 1,
   "metadata": {},
   "outputs": [
    {
     "ename": "NameError",
     "evalue": "name 'np' is not defined",
     "output_type": "error",
     "traceback": [
      "\u001b[1;31m---------------------------------------------------------------------------\u001b[0m",
      "\u001b[1;31mNameError\u001b[0m                                 Traceback (most recent call last)",
      "\u001b[1;32mc:\\Users\\Julian\\Documents\\GitHub\\Curso ML\\Bootcamp-DataScience\\DS - M1\\Clase 03\\Practica Numpy.ipynb Cell 8\u001b[0m in \u001b[0;36m<cell line: 1>\u001b[1;34m()\u001b[0m\n\u001b[1;32m----> <a href='vscode-notebook-cell:/c%3A/Users/Julian/Documents/GitHub/Curso%20ML/Bootcamp-DataScience/DS%20-%20M1/Clase%2003/Practica%20Numpy.ipynb#ch0000007?line=0'>1</a>\u001b[0m full \u001b[39m=\u001b[39m np\u001b[39m.\u001b[39mfull((\u001b[39m2\u001b[39m,\u001b[39m3\u001b[39m),\u001b[39m7\u001b[39m)\n\u001b[0;32m      <a href='vscode-notebook-cell:/c%3A/Users/Julian/Documents/GitHub/Curso%20ML/Bootcamp-DataScience/DS%20-%20M1/Clase%2003/Practica%20Numpy.ipynb#ch0000007?line=1'>2</a>\u001b[0m \u001b[39mprint\u001b[39m(full)\n",
      "\u001b[1;31mNameError\u001b[0m: name 'np' is not defined"
     ]
    }
   ],
   "source": [
    "full = np.full((2,3),7)\n",
    "print(full)"
   ]
  },
  {
   "cell_type": "code",
   "execution_count": null,
   "metadata": {},
   "outputs": [],
   "source": [
    "azar = np.random.rand(4,3)\n",
    "print(azar)"
   ]
  },
  {
   "cell_type": "code",
   "execution_count": null,
   "metadata": {},
   "outputs": [],
   "source": [
    "# genera un objeto con nueva forma\n",
    "serie = np.arange(16)\n",
    "serie2 = np.reshape(serie,[8,2])\n",
    "print(serie2)"
   ]
  },
  {
   "cell_type": "code",
   "execution_count": null,
   "metadata": {},
   "outputs": [],
   "source": [
    "#rezise cambia el objeto original\n",
    "serie = np.arange(16)\n",
    "serie2 = np.resize(serie,[8,2])\n",
    "print(serie2)"
   ]
  },
  {
   "cell_type": "code",
   "execution_count": 39,
   "metadata": {},
   "outputs": [
    {
     "data": {
      "text/plain": [
       "array([[[ 0,  1],\n",
       "        [ 2,  3],\n",
       "        [ 4,  5],\n",
       "        [ 6,  7]],\n",
       "\n",
       "       [[ 8,  9],\n",
       "        [10, 11],\n",
       "        [12, 13],\n",
       "        [14, 15]],\n",
       "\n",
       "       [[16, 17],\n",
       "        [18, 19],\n",
       "        [20, 21],\n",
       "        [22, 23]],\n",
       "\n",
       "       [[24, 25],\n",
       "        [26, 27],\n",
       "        [28, 29],\n",
       "        [30, 31]]])"
      ]
     },
     "execution_count": 39,
     "metadata": {},
     "output_type": "execute_result"
    }
   ],
   "source": [
    "serie = np.arange(32).reshape([4,4,2])\n",
    "serie"
   ]
  }
 ],
 "metadata": {
  "interpreter": {
   "hash": "c4b873e07bceb12c2b9a42b36e7722015039dfeed477cfe3ebf1d2c97eb81cf7"
  },
  "kernelspec": {
   "display_name": "Python 3.8.8 ('base')",
   "language": "python",
   "name": "python3"
  },
  "language_info": {
   "codemirror_mode": {
    "name": "ipython",
    "version": 3
   },
   "file_extension": ".py",
   "mimetype": "text/x-python",
   "name": "python",
   "nbconvert_exporter": "python",
   "pygments_lexer": "ipython3",
   "version": "3.9.12"
  },
  "orig_nbformat": 4
 },
 "nbformat": 4,
 "nbformat_minor": 2
}
