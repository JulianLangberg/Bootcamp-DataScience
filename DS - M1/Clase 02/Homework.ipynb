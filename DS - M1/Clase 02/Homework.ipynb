{
 "cells": [
  {
   "cell_type": "markdown",
   "metadata": {},
   "source": [
    "# Práctica Clase 2"
   ]
  },
  {
   "cell_type": "markdown",
   "metadata": {},
   "source": [
    "1) Abrir el archivo \"Emisiones_CO2.csv\" y cargar sus datos en un diccionario."
   ]
  },
  {
   "cell_type": "code",
   "execution_count": 12,
   "metadata": {},
   "outputs": [
    {
     "name": "stdout",
     "output_type": "stream",
     "text": [
      "Código de país|Nombre del país|Región|Año|CO2 (kt)|CO2 per cápita (toneladas métricas)\n",
      "\n"
     ]
    }
   ],
   "source": [
    "\n",
    "import os\n",
    "archivo = open('Emisiones_CO2.csv',encoding='ANSI')\n",
    "\n",
    "for e in archivo:\n",
    "    print(e)\n",
    "    break\n",
    "    \n"
   ]
  },
  {
   "cell_type": "code",
   "execution_count": 13,
   "metadata": {},
   "outputs": [
    {
     "name": "stdout",
     "output_type": "stream",
     "text": [
      "6\n"
     ]
    }
   ],
   "source": [
    "# con readline lee solo 1 linea. Strip borra espacios adelante y atras. Split separa en array  \n",
    "\n",
    "cols = archivo.readline().strip().split(\"|\")\n",
    "n_cols = len(cols)\n",
    "print(n_cols)"
   ]
  },
  {
   "cell_type": "code",
   "execution_count": 14,
   "metadata": {},
   "outputs": [],
   "source": [
    "# para contar filas en metodo open.\n",
    "counter = 0\n",
    "dicc_emisiones = {}\n",
    "for col in cols:\n",
    "    dicc_emisiones[col]=[]\n"
   ]
  },
  {
   "cell_type": "code",
   "execution_count": 15,
   "metadata": {},
   "outputs": [
    {
     "data": {
      "text/plain": [
       "{'ABW': [], 'Aruba': [], 'América Latina y Caribe': [], '1960': [], '': []}"
      ]
     },
     "execution_count": 15,
     "metadata": {},
     "output_type": "execute_result"
    }
   ],
   "source": [
    "dicc_emisiones"
   ]
  },
  {
   "cell_type": "code",
   "execution_count": 16,
   "metadata": {},
   "outputs": [
    {
     "name": "stdout",
     "output_type": "stream",
     "text": [
      "El data set tiene 11125 filas y 6 columnas\n"
     ]
    }
   ],
   "source": [
    "#next(archivo)\n",
    "for line in archivo:\n",
    "    values = line.strip().split(\"|\")\n",
    "    for i in range(len(cols)):\n",
    "        dicc_emisiones[cols[i]].append(values[i])\n",
    "    counter += 1\n",
    "\n",
    "print(\"El data set tiene %d filas y %d columnas\"%(counter-1, n_cols))"
   ]
  },
  {
   "cell_type": "code",
   "execution_count": 19,
   "metadata": {},
   "outputs": [],
   "source": [
    "dicc_emisiones = {  'cod_pais' : [],\n",
    "                    'nom_pais' : [],\n",
    "                    'region' : [],\n",
    "                    'anio' : [],\n",
    "                    'co2' : [],\n",
    "                    'co2_percapita' : []}"
   ]
  },
  {
   "cell_type": "code",
   "execution_count": 7,
   "metadata": {},
   "outputs": [
    {
     "data": {
      "text/plain": [
       "dict_keys(['Código de país', 'Nombre del país', 'Región', 'Año', 'CO2 (kt)', 'CO2 per cápita (toneladas métricas)'])"
      ]
     },
     "execution_count": 7,
     "metadata": {},
     "output_type": "execute_result"
    }
   ],
   "source": [
    "dicc_emisiones.keys()"
   ]
  },
  {
   "cell_type": "code",
   "execution_count": 19,
   "metadata": {},
   "outputs": [],
   "source": [
    "co2 = []\n",
    "#CONVERTIREMOS LOS DATOS A ENTERO Y FLOTANTE    \n",
    "for n in range(len(dicc_emisiones[\"Año\"])):\n",
    "    #Convertimos el año en entero:\n",
    "    dicc_emisiones[\"Año\"][n] = int(dicc_emisiones[\"Año\"][n])\n",
    "    #Convertimos el co2 a flotante\n",
    "    co2 = dicc_emisiones[\"CO2 (kt)\"][n]\n",
    "    if co2 == \"\":\n",
    "        dicc_emisiones[\"CO2 (kt)\"][n] = None\n",
    "    else:\n",
    "        co2 = co2.replace(\".\",\"\").replace(\",\",\".\") #Quitamos los puntos originales y cambiamos comas por puntos\n",
    "        dicc_emisiones[\"CO2 (kt)\"][n] = float(co2)\n",
    "    #Convertimos el co2_p en flotante\n",
    "    co2_p = dicc_emisiones[\"CO2 per cápita (toneladas métricas)\"][n]\n",
    "    if co2_p == \"\":\n",
    "        dicc_emisiones[\"CO2 per cápita (toneladas métricas)\"][n] = None\n",
    "    else:\n",
    "        co2_p = co2_p.replace(\".\",\"\").replace(\",\",\".\") #Quitamos los puntos originales y cambiamos comas por puntos\n",
    "        dicc_emisiones[\"CO2 per cápita (toneladas métricas)\"][n] = float(co2_p)"
   ]
  },
  {
   "cell_type": "code",
   "execution_count": 26,
   "metadata": {},
   "outputs": [
    {
     "name": "stdout",
     "output_type": "stream",
     "text": [
      "El total de emisiones es: 1691634.8 (kt)\n"
     ]
    }
   ],
   "source": [
    "#Emisiones_ALC_2010 = [dicc_emisiones[\"co2\"][i] for i in range(len(dicc_emisiones[\"co2\"])) if dicc_emisiones[\"region\"][i] == \"América Latina y Caribe\" and dicc_emisiones[\"anio\"][i] == 2010 and dicc_emisiones[\"co2\"][i] != None]\n",
    "Emisiones_ALC_2010 = []\n",
    "for i in range(len(dicc_emisiones[\"CO2 (kt)\"])):\n",
    "    c1 = dicc_emisiones[\"Región\"][i] == \"América Latina y Caribe\"\n",
    "    c2 = dicc_emisiones[\"Año\"][i] == 2010\n",
    "    c3 = dicc_emisiones[\"CO2 (kt)\"][i] != None\n",
    "    if c1 and c2 and c3:\n",
    "        Emisiones_ALC_2010.append(dicc_emisiones[\"CO2 (kt)\"][i])\n",
    "    \n",
    "print(\"El total de emisiones es:\", round(sum(Emisiones_ALC_2010),2),\"(kt)\")"
   ]
  },
  {
   "cell_type": "markdown",
   "metadata": {},
   "source": [
    "2) a) ¿Cuántas variables hay? <br>\n",
    "b) ¿Qué tipos de datos usar para cada una? <br>\n",
    "c) ¿Qué tipo de variables son? <br>. Codigo de pais: categorico;Nombre del pais: Categorico, Region: categorico,Año:categorico, co2:cuanti continuo, co2 per capita, cuanti continuo\n",
    "d) ¿Hay valores faltantes? <br>si,2098.\n",
    "e) ¿Cuál es el total de emisiones de CO2 para 'América Latina y Caribe' en el año 2010?"
   ]
  }
 ],
 "metadata": {
  "interpreter": {
   "hash": "c4b873e07bceb12c2b9a42b36e7722015039dfeed477cfe3ebf1d2c97eb81cf7"
  },
  "kernelspec": {
   "display_name": "Python 3.8.8 ('base')",
   "language": "python",
   "name": "python3"
  },
  "language_info": {
   "codemirror_mode": {
    "name": "ipython",
    "version": 3
   },
   "file_extension": ".py",
   "mimetype": "text/x-python",
   "name": "python",
   "nbconvert_exporter": "python",
   "pygments_lexer": "ipython3",
   "version": "3.8.8"
  },
  "orig_nbformat": 4
 },
 "nbformat": 4,
 "nbformat_minor": 2
}
