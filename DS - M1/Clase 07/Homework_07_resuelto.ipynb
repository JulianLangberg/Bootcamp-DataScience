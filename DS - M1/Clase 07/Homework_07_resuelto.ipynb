{
 "cells": [
  {
   "cell_type": "markdown",
   "metadata": {},
   "source": [
    "# Práctica Clase 7"
   ]
  },
  {
   "cell_type": "markdown",
   "metadata": {},
   "source": [
    "1) Diseñar una clase que permita trabajar con un árbol binario y que contenga los métodos:<br>\n",
    "    * insertaVal: para insertar un dato<br>\n",
    "    * buscaVal: que devuelva True o False si existe o no un dato<br>\n",
    "    * verVal: que imprima por pantalla los valores del árbol<br>\n",
    "\n",
    "Nota: Se puede utilizar la recursividad\n"
   ]
  },
  {
   "cell_type": "code",
   "execution_count": 2,
   "metadata": {},
   "outputs": [],
   "source": [
    "class Nodo:\n",
    "   def __init__(self, dato):\n",
    "      self.dato = dato\n",
    "      self.izq = None\n",
    "      self.der = None\n",
    "\n",
    "   def insertVal(self, dato):\n",
    "      if dato < self.dato:\n",
    "         if self.izq == None:\n",
    "            self.izq = Nodo(dato)\n",
    "         else:\n",
    "            self.izq.insertVal(dato)\n",
    "      elif dato > self.dato:\n",
    "         if self.der == None:\n",
    "            self.der = Nodo(dato)\n",
    "         else:\n",
    "            self.der.insertVal(dato)\n",
    "      else:\n",
    "         print(\"Valor repetido\")\n",
    "   \n",
    "   def buscarVal(self, val_bus):\n",
    "      if val_bus < self.dato:\n",
    "         if self.izq == None:\n",
    "            return False\n",
    "         return self.izq.buscarVal(val_bus)\n",
    "      elif val_bus > self.dato:\n",
    "         if self.der == None:\n",
    "            return False\n",
    "         return self.der.buscarVal(val_bus)\n",
    "      else:\n",
    "         return True \n",
    "\n",
    "   def verVals(self):\n",
    "      if self.der: self.der.verVals()\n",
    "      print(self.dato)\n",
    "      if self.izq: self.izq.verVals()\n",
    "   \n",
    "   "
   ]
  },
  {
   "cell_type": "code",
   "execution_count": 6,
   "metadata": {},
   "outputs": [],
   "source": [
    "raiz = Nodo(8)\n",
    "raiz.insertVal(20)\n",
    "raiz.insertVal(12)\n"
   ]
  },
  {
   "cell_type": "code",
   "execution_count": 7,
   "metadata": {},
   "outputs": [
    {
     "name": "stdout",
     "output_type": "stream",
     "text": [
      "20\n",
      "12\n",
      "8\n"
     ]
    }
   ],
   "source": [
    "raiz.verVals()"
   ]
  }
 ],
 "metadata": {
  "interpreter": {
   "hash": "c4b873e07bceb12c2b9a42b36e7722015039dfeed477cfe3ebf1d2c97eb81cf7"
  },
  "kernelspec": {
   "display_name": "Python 3.8.8 ('base')",
   "language": "python",
   "name": "python3"
  },
  "language_info": {
   "codemirror_mode": {
    "name": "ipython",
    "version": 3
   },
   "file_extension": ".py",
   "mimetype": "text/x-python",
   "name": "python",
   "nbconvert_exporter": "python",
   "pygments_lexer": "ipython3",
   "version": "3.8.8"
  }
 },
 "nbformat": 4,
 "nbformat_minor": 4
}
