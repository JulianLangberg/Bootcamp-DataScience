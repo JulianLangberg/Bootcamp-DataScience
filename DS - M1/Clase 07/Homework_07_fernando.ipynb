{
 "cells": [
  {
   "cell_type": "markdown",
   "metadata": {},
   "source": [
    "# Práctica Clase 7"
   ]
  },
  {
   "cell_type": "markdown",
   "metadata": {},
   "source": [
    "1) Diseñar una clase que permita trabajar con un árbol binario y que contenga los métodos:<br>\n",
    "    * insertaVal: para insertar un dato<br>\n",
    "    * buscaVal: que devuelva True o False si existe o no un dato<br>\n",
    "    * verVal: que imprima por pantalla los valores del árbol<br>\n",
    "\n",
    "Nota: Se puede utilizar la recursividad\n"
   ]
  },
  {
   "cell_type": "code",
   "execution_count": 1,
   "metadata": {},
   "outputs": [],
   "source": [
    "class Nodo():\n",
    "    def __init__(self, dato):\n",
    "        self.dato = dato\n",
    "        self.izq = None\n",
    "        self.der = None"
   ]
  },
  {
   "cell_type": "code",
   "execution_count": 8,
   "metadata": {},
   "outputs": [],
   "source": [
    "class Arbol():\n",
    "    def __init__(self):\n",
    "        self.raiz = None\n",
    "\n",
    "    def insertaVal(self, dato):\n",
    "        if self.dato:\n",
    "            if dato < self.dato:\n",
    "                if self.izq == None:\n",
    "                    self.izq = Nodo(dato)\n",
    "                else:\n",
    "                    self.izq.insertaVal(dato)\n",
    "            elif dato > self.dato:\n",
    "                if self.der == None:\n",
    "                    self.der = Nodo(dato)\n",
    "                else:\n",
    "                    self.der.insertaVal(dato)\n",
    "            else:\n",
    "                print('Valor Repetido:', dato, 'en Nodo:', self.dato)\n",
    "        else:\n",
    "            self.dato = dato\n",
    "\n",
    "    # funcion que regresa la raiz.\n",
    "    def getRaiz (self):\n",
    "        return self.raiz\n",
    "    \n",
    "    # Funcion que busca un valor en el árbol\n",
    "    def buscaVal(self,node,valor):\n",
    "        if node:  \n",
    "            if node.dato == valor:\n",
    "                return True\n",
    "            if node.izq:\n",
    "                if self.buscaVal(node.izq,valor):\n",
    "                    return True\n",
    "            if node.der:\n",
    "                if self.buscaVal(node.der,valor):\n",
    "                    return True\n",
    "        return False"
   ]
  },
  {
   "cell_type": "code",
   "execution_count": 9,
   "metadata": {},
   "outputs": [],
   "source": [
    "a = Arbol()"
   ]
  },
  {
   "cell_type": "code",
   "execution_count": 10,
   "metadata": {},
   "outputs": [],
   "source": [
    "a.insertaVal(2)"
   ]
  },
  {
   "cell_type": "code",
   "execution_count": 1,
   "metadata": {},
   "outputs": [
    {
     "ename": "NameError",
     "evalue": "name 'a' is not defined",
     "output_type": "error",
     "traceback": [
      "\u001b[1;31m---------------------------------------------------------------------------\u001b[0m",
      "\u001b[1;31mNameError\u001b[0m                                 Traceback (most recent call last)",
      "\u001b[1;32md:\\Curso data science\\Clase Henry\\Clase 07\\Homework_07.ipynb Cell 8'\u001b[0m in \u001b[0;36m<cell line: 1>\u001b[1;34m()\u001b[0m\n\u001b[1;32m----> <a href='vscode-notebook-cell:/d%3A/Curso%20data%20science/Clase%20Henry/Clase%2007/Homework_07.ipynb#ch0000006?line=0'>1</a>\u001b[0m \u001b[39mprint\u001b[39m(a\u001b[39m.\u001b[39mbuscarVal(\u001b[39m2\u001b[39m))\n",
      "\u001b[1;31mNameError\u001b[0m: name 'a' is not defined"
     ]
    }
   ],
   "source": [
    "print(a.buscarVal(2))"
   ]
  }
 ],
 "metadata": {
  "interpreter": {
   "hash": "c4b873e07bceb12c2b9a42b36e7722015039dfeed477cfe3ebf1d2c97eb81cf7"
  },
  "kernelspec": {
   "display_name": "Python 3.8.8 ('base')",
   "language": "python",
   "name": "python3"
  },
  "language_info": {
   "codemirror_mode": {
    "name": "ipython",
    "version": 3
   },
   "file_extension": ".py",
   "mimetype": "text/x-python",
   "name": "python",
   "nbconvert_exporter": "python",
   "pygments_lexer": "ipython3",
   "version": "3.8.8"
  }
 },
 "nbformat": 4,
 "nbformat_minor": 4
}
