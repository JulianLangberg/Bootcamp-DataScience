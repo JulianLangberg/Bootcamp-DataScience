{
 "cells": [
  {
   "cell_type": "code",
   "execution_count": 6,
   "metadata": {},
   "outputs": [],
   "source": [
    "import random\n",
    "import numpy as np"
   ]
  },
  {
   "cell_type": "code",
   "execution_count": 35,
   "metadata": {},
   "outputs": [],
   "source": [
    "mazo = list(np.arange(1,21))\n",
    "cant_sac = 1\n",
    "sacadas = 0\n",
    "total = 0 \n"
   ]
  },
  {
   "cell_type": "code",
   "execution_count": 32,
   "metadata": {},
   "outputs": [],
   "source": [
    "random.shuffle(mazo)"
   ]
  },
  {
   "cell_type": "code",
   "execution_count": 33,
   "metadata": {},
   "outputs": [
    {
     "name": "stdout",
     "output_type": "stream",
     "text": [
      "[6, 17, 15, 5, 2, 3, 11, 20, 7, 8, 9]\n"
     ]
    }
   ],
   "source": [
    "print(mazo)\n",
    "carta_sacadas = []\n",
    "suma_total = 0\n",
    "puntos = 10"
   ]
  },
  {
   "cell_type": "code",
   "execution_count": 37,
   "metadata": {},
   "outputs": [
    {
     "name": "stdout",
     "output_type": "stream",
     "text": [
      "Felicitaciones! Ganaste 8 puntos.\n",
      "Las cartas que salieron fueron [9, 8, 7]\n"
     ]
    }
   ],
   "source": [
    "while suma_total < 20:\n",
    "    carta_sacada = mazo.pop()\n",
    "    carta_sacadas.append(carta_sacada)\n",
    "    suma_total = np.array(carta_sacadas).sum()\n",
    "num_cartas = len(carta_sacadas)-1\n",
    "\n",
    "if cant_sac == num_cartas:\n",
    "    print(\"Felicitaciones! Ganaste 10 puntos.\")\n",
    "if cant_sac < num_cartas: \n",
    "    puntos -= num_cartas - cant_sac\n",
    "    print(\"Felicitaciones! Ganaste\",puntos,\"puntos.\")   \n",
    "if cant_sac > num_cartas:\n",
    "    print(\"Perdiste! Tus cartas han superado la suma de 20, no ganas puntos\")\n",
    "print(\"Las cartas que salieron fueron\",str(carta_sacadas))   "
   ]
  },
  {
   "cell_type": "code",
   "execution_count": 44,
   "metadata": {},
   "outputs": [
    {
     "name": "stdout",
     "output_type": "stream",
     "text": [
      "22\n",
      "[9, 7, 1]\n",
      "3\n"
     ]
    }
   ],
   "source": [
    "print(suma_total)\n",
    "print(carta_sacadas[:-1])\n",
    "num_cartas = len(carta_sacadas)-1\n",
    "print(num_cartas)"
   ]
  }
 ],
 "metadata": {
  "interpreter": {
   "hash": "c4b873e07bceb12c2b9a42b36e7722015039dfeed477cfe3ebf1d2c97eb81cf7"
  },
  "kernelspec": {
   "display_name": "Python 3.8.8 ('base')",
   "language": "python",
   "name": "python3"
  },
  "language_info": {
   "codemirror_mode": {
    "name": "ipython",
    "version": 3
   },
   "file_extension": ".py",
   "mimetype": "text/x-python",
   "name": "python",
   "nbconvert_exporter": "python",
   "pygments_lexer": "ipython3",
   "version": "3.8.8"
  },
  "orig_nbformat": 4
 },
 "nbformat": 4,
 "nbformat_minor": 2
}
