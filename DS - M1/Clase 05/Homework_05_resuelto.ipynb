{
 "cells": [
  {
   "cell_type": "markdown",
   "metadata": {},
   "source": [
    "# Práctica Clase 5"
   ]
  },
  {
   "cell_type": "markdown",
   "metadata": {},
   "source": [
    "1) Implementar un juego, que consista en apilar números enteros del 1 al 20, de forma aleatoria, para lo cual debe usarse una estructura de Pila. \n",
    "Luego, el usuario debe elegir un número de veces en que se va a quitar elementos de la pila, los cuales, sumados entre sí, no deben superar el valor de 50.\n",
    "El usuario pierde si la suma supera ese valor. Si no lo supera, gana, pero su calificación será 10 menos el número elementos que falten quitar para todavía no superar 50.\n",
    "El programa debe informar si perdió, y si ganó, con qué calificación lo hizo.\n",
    "\n",
    "Consideraciones:<br>\n",
    "a. Se puede usar la función input() para obtener una entrada de teclado.<br>\n",
    "b. Se puede usar la el modulo random para obtener valores aleatorios."
   ]
  },
  {
   "cell_type": "code",
   "execution_count": 31,
   "metadata": {},
   "outputs": [],
   "source": [
    "import random\n",
    "\n",
    "class JuegoPila:\n",
    "   def __init__(self):\n",
    "      self.__lista = []\n",
    "\n",
    "   def crearPila(self):\n",
    "      self.__lista = random.sample(range(1, 21), 20)\n",
    "\n",
    "   def jugar(self):\n",
    "      self.crearPila()\n",
    "      nro = input(\"Ingresar la cantidad de números a quitar de la pila: \")\n",
    "      while True:\n",
    "         if not nro.isdecimal(): nro = input(\"Ingresar la cantidad de números a quitar de la pila nuevamente: \")\n",
    "         else:\n",
    "            nro = int(nro)\n",
    "            if nro <= 20: break\n",
    "            else: \n",
    "               print(\"El número tiene que ser menor o igual a 20\")\n",
    "               nro = 'a'\n",
    "      print('Pila original')\n",
    "      self.__mostrarPila()\n",
    "\n",
    "      calificacion = 10\n",
    "      suma = 0\n",
    "      for i in range(nro):\n",
    "         suma += self.__pop()\n",
    "      print(\"Pila Obtenida:\")\n",
    "      self.__mostrarPila()\n",
    "\n",
    "      print(\"Con esta cantidad de elementos sumaste:\", suma)\n",
    "\n",
    "      if suma > 50: print(\"Perdiste, te pasaste de 50\")\n",
    "      else:\n",
    "         while suma <= 50:\n",
    "            suma += self.__pop()\n",
    "            if suma <= 50: calificacion -= 1\n",
    "         print(\"Muy bien, ganaste!! Tu calificación es:\", calificacion)\n",
    "   def __mostrarPila(self):\n",
    "      print(self.__lista)\n",
    "   \n",
    "   def __pop(self):\n",
    "      return self.__lista.pop()\n"
   ]
  },
  {
   "cell_type": "code",
   "execution_count": 32,
   "metadata": {},
   "outputs": [
    {
     "name": "stdout",
     "output_type": "stream",
     "text": [
      "Pila original\n",
      "[19, 10, 1, 3, 14, 12, 11, 5, 9, 20, 17, 18, 6, 13, 7, 15, 16, 8, 2, 4]\n",
      "Pila Obtenida:\n",
      "[19, 10, 1, 3, 14, 12, 11, 5, 9, 20, 17, 18, 6, 13, 7, 15]\n",
      "Con esta cantidad de elementos sumaste: 30\n",
      "Muy bien, ganaste!! Tu calificación es: 9\n"
     ]
    }
   ],
   "source": [
    "j=JuegoPila()\n",
    "j.jugar()\n"
   ]
  }
 ],
 "metadata": {
  "interpreter": {
   "hash": "11938c6bc6919ae2720b4d5011047913343b08a43b18698fd82dedb0d4417594"
  },
  "kernelspec": {
   "display_name": "Python 3.9.7 64-bit",
   "language": "python",
   "name": "python3"
  },
  "language_info": {
   "codemirror_mode": {
    "name": "ipython",
    "version": 3
   },
   "file_extension": ".py",
   "mimetype": "text/x-python",
   "name": "python",
   "nbconvert_exporter": "python",
   "pygments_lexer": "ipython3",
   "version": "3.9.7"
  }
 },
 "nbformat": 4,
 "nbformat_minor": 4
}
