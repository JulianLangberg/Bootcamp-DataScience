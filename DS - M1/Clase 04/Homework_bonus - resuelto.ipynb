{
 "cells": [
  {
   "cell_type": "markdown",
   "metadata": {},
   "source": []
  },
  {
   "cell_type": "code",
   "execution_count": 127,
   "metadata": {},
   "outputs": [],
   "source": [
    "import pandas as pd\n",
    "\n",
    "hospitales = pd.read_csv(\"hospitales2.csv\")\n",
    "\n",
    "#hospitales = pd.DataFrame(hospitales)"
   ]
  },
  {
   "cell_type": "code",
   "execution_count": 119,
   "metadata": {},
   "outputs": [
    {
     "data": {
      "text/html": [
       "<div>\n",
       "<style scoped>\n",
       "    .dataframe tbody tr th:only-of-type {\n",
       "        vertical-align: middle;\n",
       "    }\n",
       "\n",
       "    .dataframe tbody tr th {\n",
       "        vertical-align: top;\n",
       "    }\n",
       "\n",
       "    .dataframe thead th {\n",
       "        text-align: right;\n",
       "    }\n",
       "</style>\n",
       "<table border=\"1\" class=\"dataframe\">\n",
       "  <thead>\n",
       "    <tr style=\"text-align: right;\">\n",
       "      <th></th>\n",
       "      <th>WKT</th>\n",
       "      <th>ID</th>\n",
       "      <th>NOMBRE</th>\n",
       "      <th>NOM_MAP</th>\n",
       "      <th>OBJETO</th>\n",
       "      <th>CALLE</th>\n",
       "      <th>ALTURA</th>\n",
       "      <th>DOM_NORMA</th>\n",
       "      <th>DOM_GEO</th>\n",
       "      <th>TELEFONO</th>\n",
       "      <th>GUARDIA</th>\n",
       "      <th>FAX</th>\n",
       "      <th>WEB</th>\n",
       "      <th>COD_POSTAL</th>\n",
       "      <th>TIPO</th>\n",
       "      <th>TIPO_ESPEC</th>\n",
       "      <th>MOD_AT_1</th>\n",
       "      <th>MOD_AT_2</th>\n",
       "      <th>DEPEND_ADM</th>\n",
       "      <th>DIRECTOR</th>\n",
       "    </tr>\n",
       "  </thead>\n",
       "  <tbody>\n",
       "    <tr>\n",
       "      <th>0</th>\n",
       "      <td>POINT (-58.3775508488443 -34.6288473603881)</td>\n",
       "      <td>1.0</td>\n",
       "      <td>HOSPITAL GENERAL DE NIÑOS PEDRO DE ELIZALDE</td>\n",
       "      <td>HOSP. DE ELIZALDE</td>\n",
       "      <td>HOSPITAL</td>\n",
       "      <td>MANUEL A. MONTES DE OCA</td>\n",
       "      <td>40</td>\n",
       "      <td>MONTES DE OCA, MANUEL AV. 40</td>\n",
       "      <td>40 MONTES DE OCA, MANUEL AV.</td>\n",
       "      <td>4307-5842 / 5844</td>\n",
       "      <td>4307-5442 / 4300-1700</td>\n",
       "      <td>4302-7400</td>\n",
       "      <td>www.elizalde.gov.ar</td>\n",
       "      <td>C1270AAN</td>\n",
       "      <td>Hospital de niños</td>\n",
       "      <td>PEDIATRIA</td>\n",
       "      <td>AT. AMB./INTERNACION</td>\n",
       "      <td>DIAG./TRATAM.</td>\n",
       "      <td>Ministerio de Salud GCBA</td>\n",
       "      <td>Dr. Javier Indart</td>\n",
       "    </tr>\n",
       "  </tbody>\n",
       "</table>\n",
       "</div>"
      ],
      "text/plain": [
       "                                           WKT   ID  \\\n",
       "0  POINT (-58.3775508488443 -34.6288473603881)  1.0   \n",
       "\n",
       "                                        NOMBRE            NOM_MAP    OBJETO  \\\n",
       "0  HOSPITAL GENERAL DE NIÑOS PEDRO DE ELIZALDE  HOSP. DE ELIZALDE  HOSPITAL   \n",
       "\n",
       "                     CALLE  ALTURA                     DOM_NORMA  \\\n",
       "0  MANUEL A. MONTES DE OCA      40  MONTES DE OCA, MANUEL AV. 40   \n",
       "\n",
       "                        DOM_GEO          TELEFONO                GUARDIA  \\\n",
       "0  40 MONTES DE OCA, MANUEL AV.  4307-5842 / 5844  4307-5442 / 4300-1700   \n",
       "\n",
       "         FAX                  WEB COD_POSTAL               TIPO TIPO_ESPEC  \\\n",
       "0  4302-7400  www.elizalde.gov.ar   C1270AAN  Hospital de niños  PEDIATRIA   \n",
       "\n",
       "               MOD_AT_1       MOD_AT_2                DEPEND_ADM  \\\n",
       "0  AT. AMB./INTERNACION  DIAG./TRATAM.  Ministerio de Salud GCBA   \n",
       "\n",
       "            DIRECTOR  \n",
       "0  Dr. Javier Indart  "
      ]
     },
     "execution_count": 119,
     "metadata": {},
     "output_type": "execute_result"
    }
   ],
   "source": [
    "hospitales.head(1)"
   ]
  },
  {
   "cell_type": "code",
   "execution_count": 120,
   "metadata": {},
   "outputs": [],
   "source": [
    "# selecciono las columnas del DF\n",
    "hospitales_select=hospitales.loc[:,[\"WKT\",'NOMBRE','DOM_NORMA']]\n",
    "# le cambio los nombres a las columnas\n",
    "hospitales_select = hospitales_select.rename(columns={\"WKT\":\"Location\",\"DOM_NORMA\":\"name\",\"NOMBRE\":\"label\"})\n"
   ]
  },
  {
   "cell_type": "code",
   "execution_count": 121,
   "metadata": {},
   "outputs": [
    {
     "name": "stderr",
     "output_type": "stream",
     "text": [
      "<ipython-input-121-2e434866a748>:3: FutureWarning: The default value of regex will change from True to False in a future version. In addition, single character regular expressions will*not* be treated as literal strings when regex=True.\n",
      "  hospitales_select[\"Location\"] = hospitales_select[\"Location\"].str.replace(\")\",\"\")\n",
      "<ipython-input-121-2e434866a748>:4: FutureWarning: The default value of regex will change from True to False in a future version. In addition, single character regular expressions will*not* be treated as literal strings when regex=True.\n",
      "  hospitales_select[\"Location\"] = hospitales_select[\"Location\"].str.replace(\"(\",\"\")\n"
     ]
    }
   ],
   "source": [
    "# elimino los caracteres que no necesito de la columna Location\n",
    "hospitales_select[\"Location\"] = hospitales_select[\"Location\"].str.replace(\"POINT \",\"\")\n",
    "hospitales_select[\"Location\"] = hospitales_select[\"Location\"].str.replace(\")\",\"\")\n",
    "hospitales_select[\"Location\"] = hospitales_select[\"Location\"].str.replace(\"(\",\"\")\n"
   ]
  },
  {
   "cell_type": "code",
   "execution_count": 122,
   "metadata": {},
   "outputs": [],
   "source": [
    "# hago string y divido la columna por el espacio \" \", y genero dos columnas.\n",
    "hospitales_select = hospitales_select.join(hospitales_select[\"Location\"].str.split(\" \",1,expand=True).rename(columns={0:\"latitude\",1:\"longitude\"}))\n"
   ]
  },
  {
   "cell_type": "code",
   "execution_count": 128,
   "metadata": {},
   "outputs": [
    {
     "ename": "NameError",
     "evalue": "name 'split' is not defined",
     "output_type": "error",
     "traceback": [
      "\u001b[1;31m---------------------------------------------------------------------------\u001b[0m",
      "\u001b[1;31mNameError\u001b[0m                                 Traceback (most recent call last)",
      "\u001b[1;32m<ipython-input-128-7f732a21e98e>\u001b[0m in \u001b[0;36m<module>\u001b[1;34m\u001b[0m\n\u001b[1;32m----> 1\u001b[1;33m \u001b[0mhelp\u001b[0m\u001b[1;33m(\u001b[0m\u001b[0msplit\u001b[0m\u001b[1;33m)\u001b[0m\u001b[1;33m\u001b[0m\u001b[1;33m\u001b[0m\u001b[0m\n\u001b[0m",
      "\u001b[1;31mNameError\u001b[0m: name 'split' is not defined"
     ]
    }
   ],
   "source": []
  },
  {
   "cell_type": "code",
   "execution_count": 123,
   "metadata": {},
   "outputs": [
    {
     "data": {
      "text/html": [
       "<div>\n",
       "<style scoped>\n",
       "    .dataframe tbody tr th:only-of-type {\n",
       "        vertical-align: middle;\n",
       "    }\n",
       "\n",
       "    .dataframe tbody tr th {\n",
       "        vertical-align: top;\n",
       "    }\n",
       "\n",
       "    .dataframe thead th {\n",
       "        text-align: right;\n",
       "    }\n",
       "</style>\n",
       "<table border=\"1\" class=\"dataframe\">\n",
       "  <thead>\n",
       "    <tr style=\"text-align: right;\">\n",
       "      <th></th>\n",
       "      <th>label</th>\n",
       "      <th>name</th>\n",
       "      <th>latitude</th>\n",
       "      <th>longitude</th>\n",
       "    </tr>\n",
       "  </thead>\n",
       "  <tbody>\n",
       "    <tr>\n",
       "      <th>0</th>\n",
       "      <td>HOSPITAL GENERAL DE NIÑOS PEDRO DE ELIZALDE</td>\n",
       "      <td>MONTES DE OCA, MANUEL AV. 40</td>\n",
       "      <td>-58.3775508488443</td>\n",
       "      <td>-34.6288473603881</td>\n",
       "    </tr>\n",
       "    <tr>\n",
       "      <th>1</th>\n",
       "      <td>HOSPITAL GENERAL DE NIÑOS RICARDO GUTIERREZ</td>\n",
       "      <td>GALLO 1330</td>\n",
       "      <td>-58.4120700769456</td>\n",
       "      <td>-34.5941919726393</td>\n",
       "    </tr>\n",
       "    <tr>\n",
       "      <th>2</th>\n",
       "      <td>HOSPITAL DE ODONTOLOGIA DR. RAMON CARRILLO (EX...</td>\n",
       "      <td>SANCHEZ DE BUSTAMANTE 2529</td>\n",
       "      <td>-58.4027276547828</td>\n",
       "      <td>-34.5845283357505</td>\n",
       "    </tr>\n",
       "    <tr>\n",
       "      <th>3</th>\n",
       "      <td>HOSPITAL DE SALUD MENTAL BRAULIO MOYANO</td>\n",
       "      <td>BRANDSEN 2570</td>\n",
       "      <td>-58.3851559118889</td>\n",
       "      <td>-34.6394041316484</td>\n",
       "    </tr>\n",
       "    <tr>\n",
       "      <th>4</th>\n",
       "      <td>HOSPITAL DE GASTROENTEROLOGIA B. UDAONDO</td>\n",
       "      <td>CASEROS AV. 2061</td>\n",
       "      <td>-58.3913114406535</td>\n",
       "      <td>-34.6341535760002</td>\n",
       "    </tr>\n",
       "  </tbody>\n",
       "</table>\n",
       "</div>"
      ],
      "text/plain": [
       "                                               label  \\\n",
       "0        HOSPITAL GENERAL DE NIÑOS PEDRO DE ELIZALDE   \n",
       "1        HOSPITAL GENERAL DE NIÑOS RICARDO GUTIERREZ   \n",
       "2  HOSPITAL DE ODONTOLOGIA DR. RAMON CARRILLO (EX...   \n",
       "3            HOSPITAL DE SALUD MENTAL BRAULIO MOYANO   \n",
       "4           HOSPITAL DE GASTROENTEROLOGIA B. UDAONDO   \n",
       "\n",
       "                           name           latitude          longitude  \n",
       "0  MONTES DE OCA, MANUEL AV. 40  -58.3775508488443  -34.6288473603881  \n",
       "1                    GALLO 1330  -58.4120700769456  -34.5941919726393  \n",
       "2    SANCHEZ DE BUSTAMANTE 2529  -58.4027276547828  -34.5845283357505  \n",
       "3                 BRANDSEN 2570  -58.3851559118889  -34.6394041316484  \n",
       "4              CASEROS AV. 2061  -58.3913114406535  -34.6341535760002  "
      ]
     },
     "execution_count": 123,
     "metadata": {},
     "output_type": "execute_result"
    }
   ],
   "source": [
    "#elimino la columna que ya no es necesaria\n",
    "hospitales_select.drop(\"Location\", inplace=True , axis=1)\n",
    "#hospitales_select.drop(\"longitud\", inplace=True, axis=1)\n",
    "hospitales_select.head()"
   ]
  },
  {
   "cell_type": "code",
   "execution_count": 124,
   "metadata": {},
   "outputs": [],
   "source": [
    "# reordeno las columnas\n",
    "hospitales_select = hospitales_select[[\"latitude\",\"longitude\",\"name\",\"label\"]]"
   ]
  },
  {
   "cell_type": "code",
   "execution_count": 125,
   "metadata": {},
   "outputs": [
    {
     "data": {
      "text/html": [
       "<div>\n",
       "<style scoped>\n",
       "    .dataframe tbody tr th:only-of-type {\n",
       "        vertical-align: middle;\n",
       "    }\n",
       "\n",
       "    .dataframe tbody tr th {\n",
       "        vertical-align: top;\n",
       "    }\n",
       "\n",
       "    .dataframe thead th {\n",
       "        text-align: right;\n",
       "    }\n",
       "</style>\n",
       "<table border=\"1\" class=\"dataframe\">\n",
       "  <thead>\n",
       "    <tr style=\"text-align: right;\">\n",
       "      <th></th>\n",
       "      <th>latitude</th>\n",
       "      <th>longitude</th>\n",
       "      <th>name</th>\n",
       "      <th>label</th>\n",
       "    </tr>\n",
       "  </thead>\n",
       "  <tbody>\n",
       "    <tr>\n",
       "      <th>0</th>\n",
       "      <td>-58.3775508488443</td>\n",
       "      <td>-34.6288473603881</td>\n",
       "      <td>MONTES DE OCA, MANUEL AV. 40</td>\n",
       "      <td>HOSPITAL GENERAL DE NIÑOS PEDRO DE ELIZALDE</td>\n",
       "    </tr>\n",
       "    <tr>\n",
       "      <th>1</th>\n",
       "      <td>-58.4120700769456</td>\n",
       "      <td>-34.5941919726393</td>\n",
       "      <td>GALLO 1330</td>\n",
       "      <td>HOSPITAL GENERAL DE NIÑOS RICARDO GUTIERREZ</td>\n",
       "    </tr>\n",
       "    <tr>\n",
       "      <th>2</th>\n",
       "      <td>-58.4027276547828</td>\n",
       "      <td>-34.5845283357505</td>\n",
       "      <td>SANCHEZ DE BUSTAMANTE 2529</td>\n",
       "      <td>HOSPITAL DE ODONTOLOGIA DR. RAMON CARRILLO (EX...</td>\n",
       "    </tr>\n",
       "    <tr>\n",
       "      <th>3</th>\n",
       "      <td>-58.3851559118889</td>\n",
       "      <td>-34.6394041316484</td>\n",
       "      <td>BRANDSEN 2570</td>\n",
       "      <td>HOSPITAL DE SALUD MENTAL BRAULIO MOYANO</td>\n",
       "    </tr>\n",
       "    <tr>\n",
       "      <th>4</th>\n",
       "      <td>-58.3913114406535</td>\n",
       "      <td>-34.6341535760002</td>\n",
       "      <td>CASEROS AV. 2061</td>\n",
       "      <td>HOSPITAL DE GASTROENTEROLOGIA B. UDAONDO</td>\n",
       "    </tr>\n",
       "  </tbody>\n",
       "</table>\n",
       "</div>"
      ],
      "text/plain": [
       "            latitude          longitude                          name  \\\n",
       "0  -58.3775508488443  -34.6288473603881  MONTES DE OCA, MANUEL AV. 40   \n",
       "1  -58.4120700769456  -34.5941919726393                    GALLO 1330   \n",
       "2  -58.4027276547828  -34.5845283357505    SANCHEZ DE BUSTAMANTE 2529   \n",
       "3  -58.3851559118889  -34.6394041316484                 BRANDSEN 2570   \n",
       "4  -58.3913114406535  -34.6341535760002              CASEROS AV. 2061   \n",
       "\n",
       "                                               label  \n",
       "0        HOSPITAL GENERAL DE NIÑOS PEDRO DE ELIZALDE  \n",
       "1        HOSPITAL GENERAL DE NIÑOS RICARDO GUTIERREZ  \n",
       "2  HOSPITAL DE ODONTOLOGIA DR. RAMON CARRILLO (EX...  \n",
       "3            HOSPITAL DE SALUD MENTAL BRAULIO MOYANO  \n",
       "4           HOSPITAL DE GASTROENTEROLOGIA B. UDAONDO  "
      ]
     },
     "execution_count": 125,
     "metadata": {},
     "output_type": "execute_result"
    }
   ],
   "source": [
    "hospitales_select.head()"
   ]
  },
  {
   "cell_type": "code",
   "execution_count": 126,
   "metadata": {},
   "outputs": [],
   "source": [
    "# guardo el df en un nuevo csv\n",
    "\n",
    "hospitales_select.to_csv('hospital3.csv')"
   ]
  },
  {
   "cell_type": "code",
   "execution_count": 132,
   "metadata": {},
   "outputs": [
    {
     "name": "stdout",
     "output_type": "stream",
     "text": [
      "🟦\n",
      "[['🟦🟨🟦🟨🟦🟨🟦🟨']\n",
      " ['🟨🟦🟨🟦🟨🟦🟨🟦']\n",
      " ['🟦🟨🟦🟨🟦🟨🟦🟨']\n",
      " ['🟨🟦🟨🟦🟨🟦🟨🟦']\n",
      " ['🟦🟨🟦🟨🟦🟨🟦🟨']\n",
      " ['🟨🟦🟨🟦🟨🟦🟨🟦']\n",
      " ['🟦🟨🟦🟨🟦🟨🟦🟨']\n",
      " ['🟨🟦🟨🟦🟨🟦🟨🟦']]\n"
     ]
    }
   ],
   "source": [
    "import numpy as np\n",
    "\n",
    "\n",
    "texto1=chr(128998)+chr(129000)\n",
    "texto2=chr(129000)+chr(128998)\n",
    "arreglo=np.tile(np.array([[texto1*4],[texto2*4]]),(4,1))\n",
    "\n",
    "\n",
    "print()\n",
    "print(arreglo)"
   ]
  },
  {
   "cell_type": "code",
   "execution_count": null,
   "metadata": {},
   "outputs": [],
   "source": [
    "*"
   ]
  }
 ],
 "metadata": {
  "interpreter": {
   "hash": "c4b873e07bceb12c2b9a42b36e7722015039dfeed477cfe3ebf1d2c97eb81cf7"
  },
  "kernelspec": {
   "display_name": "Python 3.8.8 ('base')",
   "language": "python",
   "name": "python3"
  },
  "language_info": {
   "codemirror_mode": {
    "name": "ipython",
    "version": 3
   },
   "file_extension": ".py",
   "mimetype": "text/x-python",
   "name": "python",
   "nbconvert_exporter": "python",
   "pygments_lexer": "ipython3",
   "version": "3.8.8"
  },
  "orig_nbformat": 4
 },
 "nbformat": 4,
 "nbformat_minor": 2
}
