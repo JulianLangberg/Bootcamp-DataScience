{
 "cells": [
  {
   "cell_type": "code",
   "execution_count": 1,
   "metadata": {},
   "outputs": [],
   "source": [
    "def Convertir_enteros_a_binario(num):\n",
    "    '''\n",
    "this function converts integers in their binary format. It returns 'None' if the number it's not a number\n",
    "higher than 0, or if it's a float number.\n",
    "    '''\n",
    "    #if type(num) != int or num < 0: return None\n",
    "    #elif num == 0 return: 0\n",
    "    #no hace falta hacer un else, porque igualmente va a seguir.\n",
    "      \n",
    "    \n",
    "    \n",
    "    if isinstance(num, int) and num > 0:\n",
    "        num_binario = \"\"\n",
    "        while num != 0:\n",
    "            num_binario += str(num % 2)\n",
    "            num //= 2\n",
    "        return int(num_binario[::-1])\n",
    "    elif num == 0:\n",
    "        return int(0)\n",
    "    else:\n",
    "        return None    "
   ]
  },
  {
   "cell_type": "code",
   "execution_count": 5,
   "metadata": {},
   "outputs": [],
   "source": [
    "Convertir_enteros_a_binario('2')"
   ]
  },
  {
   "cell_type": "code",
   "execution_count": 31,
   "metadata": {},
   "outputs": [],
   "source": [
    "def Convertir_fracciones_a_binario(num_dec):\n",
    "    if type(num_dec)!= float: return None\n",
    "    elif num_dec > 1 or num_dec <0 : return None\n",
    "    num_inicial = num_dec\n",
    "    limite_dec = 24\n",
    "    parte_entera = 0 \n",
    "    lista_binario = []\n",
    "    i = 0\n",
    "\n",
    "    while num_dec >0 and i < limite_dec:\n",
    "        lista_binario.append(int(num_dec*2))\n",
    "        num_dec = num_dec * 2 - int(num_dec*2)\n",
    "        i += 1\n",
    "    numero_binario = \"0.\"\n",
    "    for n in lista_binario:\n",
    "        numero_binario += str(n)\n",
    "    return \"El número\", num_inicial, 'en decimal es',float(numero_binario),\"en binario\"\n",
    "    \n",
    "    #print(Convertir_fracciones_a_binario(0.5))"
   ]
  },
  {
   "cell_type": "code",
   "execution_count": 30,
   "metadata": {},
   "outputs": [
    {
     "data": {
      "text/plain": [
       "('El número', 0.3125, 'en decimal es', 0.0101, 'en binario')"
      ]
     },
     "execution_count": 30,
     "metadata": {},
     "output_type": "execute_result"
    }
   ],
   "source": [
    "Convertir_fracciones_a_binario(0.3125)\n"
   ]
  },
  {
   "cell_type": "code",
   "execution_count": 83,
   "metadata": {},
   "outputs": [],
   "source": [
    "def Convertir_a_binario1(num):\n",
    "    '''\n",
    "this function converts integers in their binary format. It returns 'None' if the number it's not a number\n",
    "higher than 0, or if it's a float number.\n",
    "    '''\n",
    "    if num < 0:\n",
    "        return print(\"None\")\n",
    "    if num == 0:\n",
    "        return 0\n",
    "    if type(num) != int:\n",
    "        return print(\"None\")\n",
    "    \n",
    "    rest = 0\n",
    "    binary_aux = []\n",
    "    num_binario = \"\"\n",
    "    while num != 0:\n",
    "        rest = num % 2\n",
    "        binary_aux.append(rest)\n",
    "        num //= 2\n",
    "\n",
    "    binary = binary_aux[::-1]\n",
    "    \n",
    "    for e in binary:\n",
    "        elemento_binario = str(e)\n",
    "        num_binario += elemento_binario \n",
    "        \n",
    "    return num_binario\n",
    "\n",
    "\n",
    "        \n"
   ]
  },
  {
   "cell_type": "code",
   "execution_count": 21,
   "metadata": {},
   "outputs": [
    {
     "ename": "SyntaxError",
     "evalue": "invalid syntax (<ipython-input-21-20c3568f5ff3>, line 2)",
     "output_type": "error",
     "traceback": [
      "\u001b[1;36m  File \u001b[1;32m\"<ipython-input-21-20c3568f5ff3>\"\u001b[1;36m, line \u001b[1;32m2\u001b[0m\n\u001b[1;33m    if type(num) != float: retun None\u001b[0m\n\u001b[1;37m                                 ^\u001b[0m\n\u001b[1;31mSyntaxError\u001b[0m\u001b[1;31m:\u001b[0m invalid syntax\n"
     ]
    }
   ],
   "source": [
    "def Convertir_fracciones_a_binario(num):\n",
    "    if type(num) != float: retun None\n",
    "    elif \n",
    "    entera = num//1\n",
    "    decimal = num % 1 \n",
    "    num_binario1 = \"\"\n",
    "    while num != 0:\n",
    "        num_binario1 += str(num % 2)\n",
    "        num //= 2\n",
    "\n",
    "    \n",
    "    num_binarioOK =  num_binario1[::-1]\n",
    "    return num_binario1[::-1]\n"
   ]
  },
  {
   "cell_type": "code",
   "execution_count": 5,
   "metadata": {},
   "outputs": [
    {
     "name": "stdout",
     "output_type": "stream",
     "text": [
      "100\n"
     ]
    }
   ],
   "source": [
    "num = 4\n",
    "num_binario = \"\"\n",
    "while num != 0:\n",
    "        num_binario += str(num % 2)\n",
    "        num //= 2\n",
    "print(num_binario[::-1])"
   ]
  },
  {
   "cell_type": "code",
   "execution_count": 117,
   "metadata": {},
   "outputs": [],
   "source": [
    "def Convertir_fracciones_a_binario(num):\n",
    "\n",
    "    entera, decimal = str(num).split(\".\")\n",
    "    binario = str(Convertir_enteros_a_binario(int(entera)))+ \".\" + str(Convertir_enteros_a_binario(int(decimal)))\n",
    "    return binario\n"
   ]
  },
  {
   "cell_type": "code",
   "execution_count": 124,
   "metadata": {},
   "outputs": [
    {
     "data": {
      "text/plain": [
       "'0.11001'"
      ]
     },
     "execution_count": 124,
     "metadata": {},
     "output_type": "execute_result"
    }
   ],
   "source": [
    "Convertir_fracciones_a_binario(0.25)"
   ]
  },
  {
   "cell_type": "code",
   "execution_count": 127,
   "metadata": {},
   "outputs": [
    {
     "name": "stdout",
     "output_type": "stream",
     "text": [
      ".0\n"
     ]
    }
   ],
   "source": [
    "# Python program to convert float\n",
    "# decimal to binary number\n",
    "\n",
    "# Function returns octal representation\n",
    "def float_bin(number, places = 3):\n",
    "\n",
    "\t# split() separates whole number and decimal\n",
    "\t# part and stores it in two separate variables\n",
    "\twhole, dec = str(number).split(\".\")\n",
    "\n",
    "\t# Convert both whole number and decimal\n",
    "\t# part from string type to integer type\n",
    "\twhole = int(whole)\n",
    "\tdec = int (dec)\n",
    "\n",
    "\t# Convert the whole number part to it's\n",
    "\t# respective binary form and remove the\n",
    "\t# \"0b\" from it.\n",
    "\tres = bin(whole).lstrip(\"0b\") + \".\"\n",
    "\n",
    "\t# Iterate the number of times, we want\n",
    "\t# the number of decimal places to be\n",
    "\tfor x in range(places):\n",
    "\n",
    "\t\t# Multiply the decimal value by 2\n",
    "\t\t# and separate the whole number part\n",
    "\t\t# and decimal part\n",
    "\t\twhole, dec = str((decimal_converter(dec)) * 2).split(\".\")\n",
    "\n",
    "\t\t# Convert the decimal part\n",
    "\t\t# to integer again\n",
    "\t\tdec = int(dec)\n",
    "\n",
    "\t\t# Keep adding the integer parts\n",
    "\t\t# receive to the result variable\n",
    "\t\tres += whole\n",
    "\n",
    "\treturn res\n",
    "\n",
    "# Function converts the value passed as\n",
    "# parameter to it's decimal representation\n",
    "def decimal_converter(num):\n",
    "\twhile num > 1:\n",
    "\t\tnum /= 10\n",
    "\treturn num\n",
    "\n",
    "# Driver Code\n",
    "\n",
    "# Take the user input for\n",
    "# the floating point number\n",
    "n = input(\"Enter your floating point value : \\n\")\n",
    "\n",
    "# Take user input for the number of\n",
    "# decimal places user want result as\n",
    "p = int(input(\"Enter the number of decimal places of the result : \\n\"))\n",
    "\n",
    "print(float_bin(n, places = p))\n"
   ]
  }
 ],
 "metadata": {
  "interpreter": {
   "hash": "c4b873e07bceb12c2b9a42b36e7722015039dfeed477cfe3ebf1d2c97eb81cf7"
  },
  "kernelspec": {
   "display_name": "Python 3.8.8 ('base')",
   "language": "python",
   "name": "python3"
  },
  "language_info": {
   "codemirror_mode": {
    "name": "ipython",
    "version": 3
   },
   "file_extension": ".py",
   "mimetype": "text/x-python",
   "name": "python",
   "nbconvert_exporter": "python",
   "pygments_lexer": "ipython3",
   "version": "3.8.8"
  },
  "orig_nbformat": 4
 },
 "nbformat": 4,
 "nbformat_minor": 2
}
