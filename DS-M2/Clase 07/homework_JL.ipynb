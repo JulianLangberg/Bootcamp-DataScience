{
 "cells": [
  {
   "cell_type": "code",
   "execution_count": null,
   "metadata": {},
   "outputs": [],
   "source": [
    "##Considera el experimento que consiste en un empleado que arma un producto.\n",
    "#a. Defina la variable aleatoria que represente el tiempo en minutos requerido para armar el producto.\n",
    "# x = minutos\n",
    "#b. ¿Qué valores toma la variable aleatoria? x>0\n",
    "#c. ¿Es una variable aleatoria discreta o continua? continua"
   ]
  },
  {
   "cell_type": "markdown",
   "metadata": {},
   "source": [
    "Considera el experimento que consiste en lanzar una moneda dos veces.\n",
    "a. Enumere los resultados experimentales.\n",
    "b. Defina una variable aleatoria que represente el número de caras en los dos lanzamientos.\n",
    "c. Dé el valor que la variable aleatoria tomará en cada uno de los resultados experimentales.\n",
    "d. ¿Es una variable aleatoria discreta o continua?"
   ]
  },
  {
   "cell_type": "code",
   "execution_count": null,
   "metadata": {},
   "outputs": [],
   "source": [
    "#2 a.\n",
    "h = 'cara'\n",
    "t = 'cruz'\n",
    "\n",
    "resultados = {\n",
    "   1: [h,h],\n",
    "   2: [h,t],\n",
    "   3: [t,h],\n",
    "   4: [t,t]\n",
    "}\n",
    "#b.\n",
    "# x = cantidad de caras en los dos lanzamientos\n",
    "\n",
    "resultados = {\n",
    "   1: [[h,h], 2],\n",
    "   2: [[h,t], 1],\n",
    "   3: [[t,h], 1],\n",
    "   4: [[t,t], 0]\n",
    "}\n",
    "#c.# variable discreta y puede tomar 3 valores, 0, 1 , 2"
   ]
  },
  {
   "cell_type": "markdown",
   "metadata": {},
   "source": [
    "Considera las decisiones de compra de los próximos tres clientes que lleguen a la tienda de ropa Martin Clothing Store. De acuerdo con la experiencia, el gerente de la tienda estima que la probabilidad de que un cliente realice una compra es 0.30.\n",
    "a. Describa si cumple con las reglas para clasificarlo como un experimiento binomial.\n",
    "b. ¿Cuál es la probabilidad de que dos de los próximos tres clientes realicen una compra?\n",
    "c. ¿Cuál es la probabilidad de que cuatro de los próximos diez clientes realicen una compra?"
   ]
  },
  {
   "cell_type": "code",
   "execution_count": 2,
   "metadata": {},
   "outputs": [
    {
     "name": "stdout",
     "output_type": "stream",
     "text": [
      "La resupuesta de b) es: 0.189\n",
      "La resupuesta de c) es: 0.20012094899999994\n"
     ]
    }
   ],
   "source": [
    "# Construir una función Binomial\n",
    "from math import factorial\n",
    "\n",
    "def funcion_binomial(k,n,p):\n",
    "  num_exitos = factorial(n) #Factorial de la cantidad de casos de éxito buscados.\n",
    "  num_eventos = factorial (k) * factorial(n-k) #Factorial del espacio muestral.\n",
    "  exitos_fracaso=pow(p,k) * pow(1-p,(n-k)) # Probabilidad de exitos y fracasos.\n",
    "\n",
    "  binomial = (num_exitos / num_eventos) * exitos_fracaso #Aplicación de la función binomial.\n",
    "\n",
    "  return binomial\n",
    "\n",
    "#Probabilidad de que 3 clientes hagan una compra, con probabilidad de éxito de 0.30\n",
    "print(\"La resupuesta de b) es:\",funcion_binomial(2,3,0.3))\n",
    "print(\"La resupuesta de c) es:\",funcion_binomial(4,10,0.3))"
   ]
  },
  {
   "cell_type": "markdown",
   "metadata": {},
   "source": [
    "A la oficina de reservaciones de una aerolínea regional llegan 48 llamadas por hora.\n",
    "a. Calcule la probabilidad de recibir cinco llamadas en un lapso de 5 minutos.\n",
    "b. Estime la probabilidad de recibir exactamente 10 llamadas en un lapso de 15 minutos.\n",
    "c. Suponga que no hay ninguna llamada en espera. Si el agente de viajes necesitará 5 minutos para la llamada que está atendiendo, ¿cuántas llamadas habrá en espera para cuando él termine? ¿Cuál es la probabilidad de que no haya ninguna llamada en espera?\n",
    "d. Si en este momento no hay ninguna llamada, ¿cuál es la probabilidad de que el agente de viajes pueda tomar 3 minutos de descanso sin ser interrumpido por una llamada?"
   ]
  },
  {
   "cell_type": "code",
   "execution_count": 6,
   "metadata": {},
   "outputs": [
    {
     "name": "stdout",
     "output_type": "stream",
     "text": [
      "La resupuesta de a) es: 0.15629345185053173\n",
      "La resupuesta de b) es: 0.1048372558836594\n",
      "La resupuesta de c) es: 4\n",
      "La resupuesta de c) es: 0.018315638888734186\n",
      "La resupuesta de d) es: 0.09071795328941253\n"
     ]
    }
   ],
   "source": [
    "from math import e,factorial\n",
    "\n",
    "\n",
    "\n",
    "def probabilidad_poisson(lamba_np,x):\n",
    "     probabilidad = (pow(e,-lamba_np) * pow(lamba_np,x))/factorial(x)\n",
    "     return probabilidad\n",
    "\n",
    "#Probabilidad de que llamen 4 personas en 5 minutos\n",
    "print(\"La resupuesta de a) es:\",probabilidad_poisson(4,5))\n",
    "\n",
    "print(\"La resupuesta de b) es:\",probabilidad_poisson(12,10))\n",
    "\n",
    "print(\"La resupuesta de c) es:\",4)\n",
    "print(\"La resupuesta de c) es:\",probabilidad_poisson(4,0))\n",
    "\n",
    "print(\"La resupuesta de d) es:\",probabilidad_poisson(2.4,0))"
   ]
  },
  {
   "cell_type": "code",
   "execution_count": 4,
   "metadata": {},
   "outputs": [
    {
     "data": {
      "text/plain": [
       "2.4000000000000004"
      ]
     },
     "execution_count": 4,
     "metadata": {},
     "output_type": "execute_result"
    }
   ],
   "source": [
    "48/60*3"
   ]
  },
  {
   "cell_type": "markdown",
   "metadata": {},
   "source": [
    "La probabilidad de que a un estudiante le guste este modulo es de 0.7 (en Henry somos optimistas), cual es la probabilidad de que les guste este módulo a 6 de los 10 estudiantes."
   ]
  },
  {
   "cell_type": "code",
   "execution_count": null,
   "metadata": {},
   "outputs": [],
   "source": []
  }
 ],
 "metadata": {
  "interpreter": {
   "hash": "c4b873e07bceb12c2b9a42b36e7722015039dfeed477cfe3ebf1d2c97eb81cf7"
  },
  "kernelspec": {
   "display_name": "Python 3.8.8 ('base')",
   "language": "python",
   "name": "python3"
  },
  "language_info": {
   "codemirror_mode": {
    "name": "ipython",
    "version": 3
   },
   "file_extension": ".py",
   "mimetype": "text/x-python",
   "name": "python",
   "nbconvert_exporter": "python",
   "pygments_lexer": "ipython3",
   "version": "3.8.8"
  },
  "orig_nbformat": 4
 },
 "nbformat": 4,
 "nbformat_minor": 2
}
