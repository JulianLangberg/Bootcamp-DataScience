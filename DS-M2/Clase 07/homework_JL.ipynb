{
 "cells": [
  {
   "cell_type": "code",
   "execution_count": null,
   "metadata": {},
   "outputs": [],
   "source": [
    "##Considera el experimento que consiste en un empleado que arma un producto.\n",
    "#a. Defina la variable aleatoria que represente el tiempo en minutos requerido para armar el producto.\n",
    "# x = minutos\n",
    "#b. ¿Qué valores toma la variable aleatoria? x>0\n",
    "#c. ¿Es una variable aleatoria discreta o continua? continua"
   ]
  },
  {
   "cell_type": "markdown",
   "metadata": {},
   "source": [
    "Considera el experimento que consiste en lanzar una moneda dos veces.\n",
    "a. Enumere los resultados experimentales.\n",
    "b. Defina una variable aleatoria que represente el número de caras en los dos lanzamientos.\n",
    "c. Dé el valor que la variable aleatoria tomará en cada uno de los resultados experimentales.\n",
    "d. ¿Es una variable aleatoria discreta o continua?"
   ]
  },
  {
   "cell_type": "code",
   "execution_count": null,
   "metadata": {},
   "outputs": [],
   "source": [
    "#2 a.\n",
    "h = 'cara'\n",
    "t = 'cruz'\n",
    "\n",
    "resultados = {\n",
    "   1: [h,h],\n",
    "   2: [h,t],\n",
    "   3: [t,h],\n",
    "   4: [t,t]\n",
    "}\n",
    "#b.\n",
    "# x = cantidad de caras en los dos lanzamientos\n",
    "\n",
    "resultados = {\n",
    "   1: [[h,h], 2],\n",
    "   2: [[h,t], 1],\n",
    "   3: [[t,h], 1],\n",
    "   4: [[t,t], 0]\n",
    "}\n",
    "#c.# variable discreta y puede tomar 3 valores, 0, 1 , 2"
   ]
  },
  {
   "cell_type": "markdown",
   "metadata": {},
   "source": [
    "Considera las decisiones de compra de los próximos tres clientes que lleguen a la tienda de ropa Martin Clothing Store. De acuerdo con la experiencia, el gerente de la tienda estima que la probabilidad de que un cliente realice una compra es 0.30."
   ]
  },
  {
   "cell_type": "code",
   "execution_count": null,
   "metadata": {},
   "outputs": [],
   "source": []
  }
 ],
 "metadata": {
  "interpreter": {
   "hash": "60edbf1df77f763159caa72b7d73db510a7465dc183bbb5c5631b3b5db9bc550"
  },
  "kernelspec": {
   "display_name": "Python 3.10.4 64-bit (windows store)",
   "language": "python",
   "name": "python3"
  },
  "language_info": {
   "name": "python",
   "version": "3.10.4"
  },
  "orig_nbformat": 4
 },
 "nbformat": 4,
 "nbformat_minor": 2
}
