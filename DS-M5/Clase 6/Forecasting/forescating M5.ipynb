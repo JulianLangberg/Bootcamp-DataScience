{
 "cells": [
  {
   "cell_type": "code",
   "execution_count": 7,
   "metadata": {},
   "outputs": [
    {
     "data": {
      "text/html": [
       "<div>\n",
       "<style scoped>\n",
       "    .dataframe tbody tr th:only-of-type {\n",
       "        vertical-align: middle;\n",
       "    }\n",
       "\n",
       "    .dataframe tbody tr th {\n",
       "        vertical-align: top;\n",
       "    }\n",
       "\n",
       "    .dataframe thead th {\n",
       "        text-align: right;\n",
       "    }\n",
       "</style>\n",
       "<table border=\"1\" class=\"dataframe\">\n",
       "  <thead>\n",
       "    <tr style=\"text-align: right;\">\n",
       "      <th></th>\n",
       "      <th>Año</th>\n",
       "      <th>Presupuestos</th>\n",
       "      <th>Ventas</th>\n",
       "    </tr>\n",
       "  </thead>\n",
       "  <tbody>\n",
       "    <tr>\n",
       "      <th>0</th>\n",
       "      <td>1990</td>\n",
       "      <td>70</td>\n",
       "      <td>54</td>\n",
       "    </tr>\n",
       "    <tr>\n",
       "      <th>1</th>\n",
       "      <td>1991</td>\n",
       "      <td>110</td>\n",
       "      <td>87</td>\n",
       "    </tr>\n",
       "    <tr>\n",
       "      <th>2</th>\n",
       "      <td>1992</td>\n",
       "      <td>109</td>\n",
       "      <td>72</td>\n",
       "    </tr>\n",
       "    <tr>\n",
       "      <th>3</th>\n",
       "      <td>1993</td>\n",
       "      <td>137</td>\n",
       "      <td>93</td>\n",
       "    </tr>\n",
       "    <tr>\n",
       "      <th>4</th>\n",
       "      <td>1994</td>\n",
       "      <td>182</td>\n",
       "      <td>123</td>\n",
       "    </tr>\n",
       "    <tr>\n",
       "      <th>5</th>\n",
       "      <td>1995</td>\n",
       "      <td>200</td>\n",
       "      <td>120</td>\n",
       "    </tr>\n",
       "    <tr>\n",
       "      <th>6</th>\n",
       "      <td>1996</td>\n",
       "      <td>78</td>\n",
       "      <td>25</td>\n",
       "    </tr>\n",
       "    <tr>\n",
       "      <th>7</th>\n",
       "      <td>1997</td>\n",
       "      <td>182</td>\n",
       "      <td>130</td>\n",
       "    </tr>\n",
       "    <tr>\n",
       "      <th>8</th>\n",
       "      <td>1998</td>\n",
       "      <td>95</td>\n",
       "      <td>25</td>\n",
       "    </tr>\n",
       "    <tr>\n",
       "      <th>9</th>\n",
       "      <td>1999</td>\n",
       "      <td>222</td>\n",
       "      <td>138</td>\n",
       "    </tr>\n",
       "    <tr>\n",
       "      <th>10</th>\n",
       "      <td>2000</td>\n",
       "      <td>129</td>\n",
       "      <td>45</td>\n",
       "    </tr>\n",
       "    <tr>\n",
       "      <th>11</th>\n",
       "      <td>2001</td>\n",
       "      <td>245</td>\n",
       "      <td>125</td>\n",
       "    </tr>\n",
       "    <tr>\n",
       "      <th>12</th>\n",
       "      <td>2002</td>\n",
       "      <td>134</td>\n",
       "      <td>33</td>\n",
       "    </tr>\n",
       "    <tr>\n",
       "      <th>13</th>\n",
       "      <td>2003</td>\n",
       "      <td>301</td>\n",
       "      <td>157</td>\n",
       "    </tr>\n",
       "    <tr>\n",
       "      <th>14</th>\n",
       "      <td>2004</td>\n",
       "      <td>217</td>\n",
       "      <td>61</td>\n",
       "    </tr>\n",
       "    <tr>\n",
       "      <th>15</th>\n",
       "      <td>2005</td>\n",
       "      <td>339</td>\n",
       "      <td>150</td>\n",
       "    </tr>\n",
       "    <tr>\n",
       "      <th>16</th>\n",
       "      <td>2006</td>\n",
       "      <td>242</td>\n",
       "      <td>75</td>\n",
       "    </tr>\n",
       "    <tr>\n",
       "      <th>17</th>\n",
       "      <td>2007</td>\n",
       "      <td>400</td>\n",
       "      <td>152</td>\n",
       "    </tr>\n",
       "    <tr>\n",
       "      <th>18</th>\n",
       "      <td>2008</td>\n",
       "      <td>293</td>\n",
       "      <td>63</td>\n",
       "    </tr>\n",
       "    <tr>\n",
       "      <th>19</th>\n",
       "      <td>2009</td>\n",
       "      <td>441</td>\n",
       "      <td>140</td>\n",
       "    </tr>\n",
       "    <tr>\n",
       "      <th>20</th>\n",
       "      <td>2010</td>\n",
       "      <td>379</td>\n",
       "      <td>91</td>\n",
       "    </tr>\n",
       "    <tr>\n",
       "      <th>21</th>\n",
       "      <td>2011</td>\n",
       "      <td>456</td>\n",
       "      <td>144</td>\n",
       "    </tr>\n",
       "    <tr>\n",
       "      <th>22</th>\n",
       "      <td>2012</td>\n",
       "      <td>457</td>\n",
       "      <td>101</td>\n",
       "    </tr>\n",
       "    <tr>\n",
       "      <th>23</th>\n",
       "      <td>2013</td>\n",
       "      <td>596</td>\n",
       "      <td>170</td>\n",
       "    </tr>\n",
       "    <tr>\n",
       "      <th>24</th>\n",
       "      <td>2014</td>\n",
       "      <td>455</td>\n",
       "      <td>99</td>\n",
       "    </tr>\n",
       "    <tr>\n",
       "      <th>25</th>\n",
       "      <td>2015</td>\n",
       "      <td>656</td>\n",
       "      <td>200</td>\n",
       "    </tr>\n",
       "    <tr>\n",
       "      <th>26</th>\n",
       "      <td>2016</td>\n",
       "      <td>647</td>\n",
       "      <td>142</td>\n",
       "    </tr>\n",
       "    <tr>\n",
       "      <th>27</th>\n",
       "      <td>2017</td>\n",
       "      <td>806</td>\n",
       "      <td>220</td>\n",
       "    </tr>\n",
       "  </tbody>\n",
       "</table>\n",
       "</div>"
      ],
      "text/plain": [
       "     Año  Presupuestos  Ventas\n",
       "0   1990            70      54\n",
       "1   1991           110      87\n",
       "2   1992           109      72\n",
       "3   1993           137      93\n",
       "4   1994           182     123\n",
       "5   1995           200     120\n",
       "6   1996            78      25\n",
       "7   1997           182     130\n",
       "8   1998            95      25\n",
       "9   1999           222     138\n",
       "10  2000           129      45\n",
       "11  2001           245     125\n",
       "12  2002           134      33\n",
       "13  2003           301     157\n",
       "14  2004           217      61\n",
       "15  2005           339     150\n",
       "16  2006           242      75\n",
       "17  2007           400     152\n",
       "18  2008           293      63\n",
       "19  2009           441     140\n",
       "20  2010           379      91\n",
       "21  2011           456     144\n",
       "22  2012           457     101\n",
       "23  2013           596     170\n",
       "24  2014           455      99\n",
       "25  2015           656     200\n",
       "26  2016           647     142\n",
       "27  2017           806     220"
      ]
     },
     "execution_count": 7,
     "metadata": {},
     "output_type": "execute_result"
    }
   ],
   "source": [
    "import pandas as pd\n",
    "import matplotlib.pyplot as plt\n",
    "import numpy as np\n",
    "import seaborn as sns\n",
    "sns.set()\n",
    "\n",
    "\n",
    "vehiculos = pd.read_csv(\"Forescating model - M5.csv\", sep=';')\n",
    "vehiculos\n"
   ]
  },
  {
   "cell_type": "code",
   "execution_count": 6,
   "metadata": {},
   "outputs": [
    {
     "data": {
      "text/plain": [
       "[Text(0.5, 0, 'Presupuestos'), Text(0, 0.5, 'Ventas')]"
      ]
     },
     "execution_count": 6,
     "metadata": {},
     "output_type": "execute_result"
    },
    {
     "data": {
      "image/png": "[encoded data removed]",
      "text/plain": [
       "<Figure size 432x288 with 1 Axes>"
      ]
     },
     "metadata": {},
     "output_type": "display_data"
    }
   ],
   "source": [
    "x = vehiculos.Presupuestos.values\n",
    "y = vehiculos.Ventas.values\n",
    "\n",
    "fig = plt.figure()\n",
    "ax = plt.axes()\n",
    "\n",
    "ax.scatter(x, y)\n",
    "ax.set(xlabel='Presupuestos', ylabel='Ventas')"
   ]
  },
  {
   "cell_type": "code",
   "execution_count": 8,
   "metadata": {},
   "outputs": [
    {
     "name": "stdout",
     "output_type": "stream",
     "text": [
      "                   Año  Presupuestos    Ventas\n",
      "Año           1.000000      0.908553  0.534073\n",
      "Presupuestos  0.908553      1.000000  0.782306\n",
      "Ventas        0.534073      0.782306  1.000000\n",
      "Presupuestos - Ventas:  0.7823060548776529\n"
     ]
    }
   ],
   "source": [
    "corr_vehiculos= vehiculos.corr()\n",
    "print(corr_vehiculos)\n",
    "print('Presupuestos - Ventas: ',corr_vehiculos.loc[\"Presupuestos\", \"Ventas\"])\n"
   ]
  },
  {
   "cell_type": "code",
   "execution_count": 10,
   "metadata": {},
   "outputs": [
    {
     "name": "stdout",
     "output_type": "stream",
     "text": [
      "                   Año  Presupuestos    Ventas\n",
      "Año           1.000000      0.792054  0.410596\n",
      "Presupuestos  0.792054      1.000000  0.604775\n",
      "Ventas        0.410596      0.604775  1.000000\n",
      "Presupuestos - Ventas:  0.6047745358090185\n"
     ]
    }
   ],
   "source": [
    "corr_vehiculos = vehiculos.corr(method ='kendall')\n",
    "print(corr_vehiculos)\n",
    "print('Presupuestos - Ventas: ',corr_vehiculos.loc[\"Presupuestos\", \"Ventas\"])"
   ]
  },
  {
   "cell_type": "code",
   "execution_count": 11,
   "metadata": {},
   "outputs": [
    {
     "name": "stdout",
     "output_type": "stream",
     "text": [
      "[[ 60.67022934]\n",
      " [ 68.74658823]\n",
      " [ 68.54467925]\n",
      " [ 74.19813048]\n",
      " [ 83.28403423]\n",
      " [ 86.91839573]\n",
      " [ 62.28550111]\n",
      " [ 83.28403423]\n",
      " [ 65.71795364]\n",
      " [ 91.36039312]\n",
      " [ 72.5828587 ]\n",
      " [ 96.00429949]\n",
      " [ 73.59240356]\n",
      " [107.31120193]\n",
      " [ 90.35084826]\n",
      " [114.98374288]\n",
      " [ 95.39857257]\n",
      " [127.30019019]\n",
      " [105.69593016]\n",
      " [135.57845805]\n",
      " [123.06010177]\n",
      " [138.60709264]\n",
      " [138.80900161]\n",
      " [166.87434876]\n",
      " [138.40518367]\n",
      " [178.9888871 ]\n",
      " [177.17170635]\n",
      " [209.27523294]]\n"
     ]
    }
   ],
   "source": [
    "from sklearn.linear_model import LinearRegression\n",
    "\n",
    "admisionesH = vehiculos['Presupuestos'].values.reshape(-1,1)\n",
    "piH = vehiculos['Ventas'].values.reshape(-1,1)\n",
    "correlacion = LinearRegression().fit(admisionesH,piH) \n",
    "pi2H = correlacion.predict(admisionesH)\n",
    "print(pi2H)"
   ]
  },
  {
   "cell_type": "code",
   "execution_count": 12,
   "metadata": {},
   "outputs": [
    {
     "name": "stdout",
     "output_type": "stream",
     "text": [
      "Ventas = 0.2019*Presupuestos +46.5366\n"
     ]
    }
   ],
   "source": [
    "#y=mx+c\n",
    "m = correlacion.coef_[0][0]\n",
    "c = correlacion.intercept_[0]\n",
    "\n",
    "ecuacion = 'Ventas = %0.4f*Presupuestos %+0.4f'%(m,c)\n",
    "\n",
    "print(ecuacion)"
   ]
  },
  {
   "cell_type": "code",
   "execution_count": 13,
   "metadata": {},
   "outputs": [
    {
     "data": {
      "text/plain": [
       "[<matplotlib.lines.Line2D at 0x1f6ac6470d0>]"
      ]
     },
     "execution_count": 13,
     "metadata": {},
     "output_type": "execute_result"
    },
    {
     "data": {
      "image/png": "[encoded data removed]",
      "text/plain": [
       "<Figure size 432x288 with 1 Axes>"
      ]
     },
     "metadata": {},
     "output_type": "display_data"
    }
   ],
   "source": [
    "x = vehiculos.Presupuestos.values\n",
    "y = vehiculos.Ventas.values\n",
    "\n",
    "fig = plt.figure()\n",
    "ax = plt.axes()\n",
    "\n",
    "ax.scatter(x, y)\n",
    "ax.set(xlabel='Presupuestos', ylabel='Ventas')\n",
    "plt.plot(x, pi2H, color='red', label=ecuacion)"
   ]
  },
  {
   "cell_type": "code",
   "execution_count": 14,
   "metadata": {},
   "outputs": [
    {
     "name": "stdout",
     "output_type": "stream",
     "text": [
      "[54, 87, 72, 93, 123, 120, 25, 130, 25, 138, 45, 125, 33, 157, 61, 150, 75, 152, 63, 140, 91, 144, 101, 170, 99, 200, 142, 220]\n",
      "[60.67, 68.75, 68.54, 74.2, 83.28, 86.92, 62.29, 83.28, 65.72, 91.36, 72.58, 96.0, 73.59, 107.31, 90.35, 114.98, 95.4, 127.3, 105.7, 135.58, 123.06, 138.61, 138.81, 166.87, 138.41, 178.99, 177.17, 209.28]\n"
     ]
    }
   ],
   "source": [
    "numeros1 = [valor for fila in piH for valor in fila]\n",
    "numeros2 = [valor for fila in pi2H for valor in fila]\n",
    "vehiculosH = []\n",
    "vehiculos2H = []\n",
    "\n",
    "for num in numeros1:\n",
    "     vehiculosH.append(num)\n",
    "\n",
    "for num in numeros2:\n",
    "     vehiculos2H.append(round(num,2))\n",
    "\n",
    "print(vehiculosH)     \n",
    "\n",
    "print(vehiculos2H)  "
   ]
  }
 ],
 "metadata": {
  "kernelspec": {
   "display_name": "Python 3.10.0 64-bit",
   "language": "python",
   "name": "python3"
  },
  "language_info": {
   "codemirror_mode": {
    "name": "ipython",
    "version": 3
   },
   "file_extension": ".py",
   "mimetype": "text/x-python",
   "name": "python",
   "nbconvert_exporter": "python",
   "pygments_lexer": "ipython3",
   "version": "3.10.0"
  },
  "orig_nbformat": 4,
  "vscode": {
   "interpreter": {
    "hash": "1c78c748587efab2fabdf837f7fee0ed6bd03c777fb4851686550965991e76c2"
   }
  }
 },
 "nbformat": 4,
 "nbformat_minor": 2
}
