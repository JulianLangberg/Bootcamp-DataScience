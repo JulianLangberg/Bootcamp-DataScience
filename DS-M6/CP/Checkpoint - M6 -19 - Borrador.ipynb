{
 "cells": [
  {
   "cell_type": "code",
   "execution_count": null,
   "metadata": {},
   "outputs": [],
   "source": [
    "import numpy as np\n",
    "import pandas as pd\n",
    "import math as math\n",
    "import matplotlib.pyplot as plt\n",
    "import seaborn as sns\n",
    "from sklearn.preprocessing import MinMaxScaler\n",
    "from sklearn.impute import SimpleImputer\n",
    "from sklearn.pipeline import Pipeline\n",
    "from sklearn.model_selection import RandomizedSearchCV"
   ]
  },
  {
   "cell_type": "code",
   "execution_count": null,
   "metadata": {},
   "outputs": [],
   "source": [
    "df = pd.read_csv('data.csv')\n",
    "df.head()"
   ]
  },
  {
   "cell_type": "code",
   "execution_count": null,
   "metadata": {},
   "outputs": [],
   "source": [
    "Input = [('scale',MinMaxScaler()),('inputer',SimpleImputer(strategy='mean'),('SVC',RandomizedSearchCV(preprocessing__imputer__strategy=['mean', 'median','most_frequent'],cv=5,n_iter = 50,scoring='precision')))]"
   ]
  },
  {
   "cell_type": "code",
   "execution_count": null,
   "metadata": {},
   "outputs": [],
   "source": [
    "yunned_pipe = Pipeline(Input)"
   ]
  },
  {
   "cell_type": "code",
   "execution_count": 42,
   "metadata": {},
   "outputs": [],
   "source": [
    "X = df.drop(\"target_5y\", axis=1)\n",
    "y = df.target_5y"
   ]
  },
  {
   "cell_type": "code",
   "execution_count": 43,
   "metadata": {},
   "outputs": [],
   "source": [
    "X_scaled = MinMaxScaler().fit_transform(X)"
   ]
  },
  {
   "cell_type": "code",
   "execution_count": 50,
   "metadata": {},
   "outputs": [
    {
     "data": {
      "text/plain": [
       "games played           0\n",
       "minutes played         0\n",
       "points per game        0\n",
       "field goals made       0\n",
       "field goal attempts    0\n",
       "field goal percent     0\n",
       "3 point made           0\n",
       "3 point attempt        0\n",
       "3 point %              0\n",
       "free throw made        0\n",
       "free throw attempts    0\n",
       "free throw %           0\n",
       "offensive rebounds     0\n",
       "defensive rebounds     0\n",
       "rebounds               0\n",
       "assists                0\n",
       "steals                 0\n",
       "blocks                 0\n",
       "turnovers              0\n",
       "target_5y              0\n",
       "dtype: int64"
      ]
     },
     "execution_count": 50,
     "metadata": {},
     "output_type": "execute_result"
    }
   ],
   "source": [
    "df.isna().sum()"
   ]
  },
  {
   "cell_type": "code",
   "execution_count": null,
   "metadata": {},
   "outputs": [
    {
     "ename": "TypeError",
     "evalue": "'SVC' object is not callable",
     "output_type": "error",
     "traceback": [
      "\u001b[1;31m---------------------------------------------------------------------------\u001b[0m\n",
      "\u001b[1;31mTypeError\u001b[0m                                 Traceback (most recent call last)\n",
      "\u001b[1;32mc:\\Users\\Julian\\Documents\\GitHub\\Curso ML\\Bootcamp-DataScience\\DS-M6\\CP\\Checkpoint - M6 -19 - Borrador.ipynb Cell 11\u001b[0m in \u001b[0;36m<cell line: 2>\u001b[1;34m()\u001b[0m\n",
      "\u001b[0;32m      <a href='vscode-notebook-cell:/c%3A/Users/Julian/Documents/GitHub/Curso%20ML/Bootcamp-DataScience/DS-M6/CP/Checkpoint%20-%20M6%20-19%20-%20Borrador.ipynb#ch0000008?line=0'>1</a>\u001b[0m \u001b[39mfrom\u001b[39;00m \u001b[39msklearn\u001b[39;00m\u001b[39m.\u001b[39;00m\u001b[39mmodel_selection\u001b[39;00m \u001b[39mimport\u001b[39;00m cross_val_score\n",
      "\u001b[1;32m----> <a href='vscode-notebook-cell:/c%3A/Users/Julian/Documents/GitHub/Curso%20ML/Bootcamp-DataScience/DS-M6/CP/Checkpoint%20-%20M6%20-19%20-%20Borrador.ipynb#ch0000008?line=1'>2</a>\u001b[0m svclassifier \u001b[39m=\u001b[39m SVC(kernel\u001b[39m=\u001b[39;49m\u001b[39m'\u001b[39;49m\u001b[39mrbf\u001b[39;49m\u001b[39m'\u001b[39;49m, gamma\u001b[39m=\u001b[39;49m\u001b[39m'\u001b[39;49m\u001b[39mauto\u001b[39;49m\u001b[39m'\u001b[39;49m, C\u001b[39m=\u001b[39;49m\u001b[39m1\u001b[39;49m)\n",
      "\u001b[0;32m      <a href='vscode-notebook-cell:/c%3A/Users/Julian/Documents/GitHub/Curso%20ML/Bootcamp-DataScience/DS-M6/CP/Checkpoint%20-%20M6%20-19%20-%20Borrador.ipynb#ch0000008?line=4'>5</a>\u001b[0m tree_scores \u001b[39m=\u001b[39m cross_val_score(svclassifier, X_scaled, y, cv\u001b[39m=\u001b[39m\u001b[39m5\u001b[39m,scoring \u001b[39m=\u001b[39m\u001b[39m'\u001b[39m\u001b[39mprecision\u001b[39m\u001b[39m'\u001b[39m)\n",
      "\u001b[0;32m      <a href='vscode-notebook-cell:/c%3A/Users/Julian/Documents/GitHub/Curso%20ML/Bootcamp-DataScience/DS-M6/CP/Checkpoint%20-%20M6%20-19%20-%20Borrador.ipynb#ch0000008?line=5'>6</a>\u001b[0m \u001b[39mprint\u001b[39m(\u001b[39m\"\u001b[39m\u001b[39mAccuracy para Tree: \u001b[39m\u001b[39m%0.2f\u001b[39;00m\u001b[39m (+/- \u001b[39m\u001b[39m%0.2f\u001b[39;00m\u001b[39m)\u001b[39m\u001b[39m\"\u001b[39m \u001b[39m%\u001b[39m (tree_scores\u001b[39m.\u001b[39mmean(), tree_scores\u001b[39m.\u001b[39mstd() \u001b[39m*\u001b[39m \u001b[39m2\u001b[39m))\n",
      "\n",
      "\u001b[1;31mTypeError\u001b[0m: 'SVC' object is not callable"
     ]
    }
   ],
   "source": [
    "from sklearn.model_selection import cross_val_score\n",
    "svclassifier = SVC(kernel='rbf', gamma='auto', C=1)\n",
    "svclassifier.fit(X_train, y_train)\n",
    "\n"
   ]
  },
  {
   "cell_type": "code",
   "execution_count": null,
   "metadata": {},
   "outputs": [],
   "source": [
    "\n",
    "mean_1 = df['games played'].mean()\n",
    "mean_2 = df['points per game'].mean()\n",
    "mean_3 = df['field goals made'].mean()\n",
    "mean_4 = df['field goal attempts'].mean()\n",
    "mean_5 = df['field goal percent'].mean()\n",
    "mean_6 = df['3 point made'].mean()\n",
    "mean_7 = df['3 point attempt'].mean()\n",
    "mean_8 = df['3 point %'].mean()\n",
    "mean_9 = df['offensive rebounds'].mean()\n",
    "mean_10 = df['defensive rebounds'].mean()\n",
    "mean_11 = df['rebounds'].mean()\n",
    "mean_12 = df['blocks'].mean()\n"
   ]
  },
  {
   "cell_type": "code",
   "execution_count": 40,
   "metadata": {},
   "outputs": [],
   "source": [
    "df['games played'].replace(np.nan, mean_1,inplace=True)\n",
    "df['points per game'].replace(np.nan, mean_2,inplace=True)\n",
    "df['field goals made'].replace(np.nan, mean_3,inplace=True)\n",
    "df['field goal attempts'].replace(np.nan, mean_4,inplace=True)\n",
    "df['field goal percent'].replace(np.nan, mean_5,inplace=True)\n",
    "df['3 point made'].replace(np.nan, mean_6,inplace=True)\n",
    "df['3 point attempt'].replace(np.nan, mean_7,inplace=True)\n",
    "df['3 point %'].replace(np.nan, mean_8,inplace=True)\n",
    "df['offensive rebounds'].replace(np.nan, mean_9,inplace=True)\n",
    "df['defensive rebounds'].replace(np.nan, mean_10,inplace=True)\n",
    "df['rebounds'].replace(np.nan, mean_11,inplace=True)\n",
    "df['blocks'].replace(np.nan, mean_12,inplace=True)"
   ]
  },
  {
   "cell_type": "code",
   "execution_count": 37,
   "metadata": {},
   "outputs": [],
   "source": [
    "from sklearn.svm import SVC"
   ]
  },
  {
   "cell_type": "code",
   "execution_count": null,
   "metadata": {},
   "outputs": [],
   "source": [
    "tree_scores = cross_val_score(svclassifier, X_scaled, y, cv=5,scoring ='precision')\n",
    "print(\"Accuracy para Tree: %0.2f (+/- %0.2f)\" % (tree_scores.mean(), tree_scores.std() * 2))"
   ]
  }
 ],
 "metadata": {
  "kernelspec": {
   "display_name": "Python 3.9.13 64-bit (windows store)",
   "language": "python",
   "name": "python3"
  },
  "language_info": {
   "codemirror_mode": {
    "name": "ipython",
    "version": 3
   },
   "file_extension": ".py",
   "mimetype": "text/x-python",
   "name": "python",
   "nbconvert_exporter": "python",
   "pygments_lexer": "ipython3",
   "version": "3.9.13"
  },
  "orig_nbformat": 4,
  "vscode": {
   "interpreter": {
    "hash": "8df85b03b822b35864a3666ed6c3dfc79bc4b6782f95ad9293c573f382cd7db3"
   }
  }
 },
 "nbformat": 4,
 "nbformat_minor": 2
}
