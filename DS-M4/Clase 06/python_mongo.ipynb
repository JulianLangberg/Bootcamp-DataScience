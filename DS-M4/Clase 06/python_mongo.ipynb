{
 "cells": [
  {
   "cell_type": "code",
   "execution_count": 14,
   "metadata": {},
   "outputs": [],
   "source": [
    "import requests\n",
    "from pymongo import MongoClient\n",
    "from pprint import pprint"
   ]
  },
  {
   "cell_type": "markdown",
   "metadata": {},
   "source": [
    "Hago el request a la página de Buenos Aires Data, y lo bajo y transformo en diccionario"
   ]
  },
  {
   "cell_type": "code",
   "execution_count": null,
   "metadata": {},
   "outputs": [],
   "source": [
    "url = 'https://cdn.buenosaires.gob.ar/datosabiertos/datasets/salud/hospitales/hospitales.geojson'\n",
    "response = requests.get(url)\n",
    "#objeto = response.text\n",
    "objeto = response.json()\n",
    "pprint(objeto['features'])"
   ]
  },
  {
   "cell_type": "code",
   "execution_count": null,
   "metadata": {},
   "outputs": [],
   "source": [
    "cliente = MongoClient(\"mongodb://localhost:27017\")\n",
    "bd = cliente['salud']\n",
    "coleccion = bd['hospitales']\n",
    "coleccion.insert_many(objeto['features'])"
   ]
  },
  {
   "cell_type": "markdown",
   "metadata": {},
   "source": [
    "Hacer queries con python"
   ]
  },
  {
   "cell_type": "code",
   "execution_count": 18,
   "metadata": {},
   "outputs": [
    {
     "name": "stdout",
     "output_type": "stream",
     "text": [
      "{'_id': ObjectId('62b9d0b8a9c861822c2705fb'),\n",
      " 'properties': {'CALLE': 'CASEROS',\n",
      "                'NOMBRE': 'HOSPITAL DE GASTROENTEROLOGIA B. UDAONDO'}}\n",
      "{'_id': ObjectId('62b9d0b8a9c861822c2705f9'),\n",
      " 'properties': {'CALLE': 'SANCHEZ DE BUSTAMANTE',\n",
      "                'NOMBRE': 'HOSPITAL DE ODONTOLOGIA DR. RAMON CARRILLO (EX '\n",
      "                          'NACIONAL)'}}\n",
      "{'_id': ObjectId('62b9d0b8a9c861822c2705f8'),\n",
      " 'properties': {'CALLE': 'GALLO',\n",
      "                'NOMBRE': 'HOSPITAL GENERAL DE NIÑOS RICARDO GUTIERREZ'}}\n"
     ]
    }
   ],
   "source": [
    "client = MongoClient('mongodb://localhost:27017')\n",
    "filter={\n",
    "    '$or': [\n",
    "        {\n",
    "            'properties.ID': 2\n",
    "        }, {\n",
    "            'properties.ID': 4\n",
    "        }, {\n",
    "            'properties.ID': 7\n",
    "        }\n",
    "    ]\n",
    "}\n",
    "project={\n",
    "    'properties.CALLE': 1, \n",
    "    'properties.NOMBRE': 1\n",
    "}\n",
    "sort=list({\n",
    "    'properties.ID': -1\n",
    "}.items())\n",
    "\n",
    "result = client['salud']['hospitales'].find(filter=filter,projection=project,sort=sort)\n",
    "for resultado in result:\n",
    "   pprint(resultado)"
   ]
  }
 ],
 "metadata": {
  "kernelspec": {
   "display_name": "Python 3.9.7 64-bit",
   "language": "python",
   "name": "python3"
  },
  "language_info": {
   "codemirror_mode": {
    "name": "ipython",
    "version": 3
   },
   "file_extension": ".py",
   "mimetype": "text/x-python",
   "name": "python",
   "nbconvert_exporter": "python",
   "pygments_lexer": "ipython3",
   "version": "3.9.7"
  },
  "orig_nbformat": 4,
  "vscode": {
   "interpreter": {
    "hash": "11938c6bc6919ae2720b4d5011047913343b08a43b18698fd82dedb0d4417594"
   }
  }
 },
 "nbformat": 4,
 "nbformat_minor": 2
}
