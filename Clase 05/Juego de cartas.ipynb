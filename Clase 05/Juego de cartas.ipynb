{
 "cells": [
  {
   "cell_type": "code",
   "execution_count": 13,
   "metadata": {},
   "outputs": [],
   "source": [
    "import random\n"
   ]
  },
  {
   "cell_type": "code",
   "execution_count": 16,
   "metadata": {},
   "outputs": [
    {
     "name": "stdout",
     "output_type": "stream",
     "text": [
      "[1, 2, 3, 4, 5, 6, 7, 8, 9, 10, 11, 12, 13, 14, 15, 16, 17, 18, 19, 20]\n"
     ]
    }
   ],
   "source": [
    "mazo = list(np.arange(1,21))\n",
    "cant_sac = 4\n",
    "sacadas = 0\n",
    "total = 0 \n"
   ]
  },
  {
   "cell_type": "code",
   "execution_count": 27,
   "metadata": {},
   "outputs": [],
   "source": [
    "random.shuffle(mazo)"
   ]
  },
  {
   "cell_type": "code",
   "execution_count": 30,
   "metadata": {},
   "outputs": [
    {
     "name": "stdout",
     "output_type": "stream",
     "text": [
      "[11, 6, 19, 18, 16, 12, 13, 4, 3, 20, 8, 10, 15, 5, 1, 7, 9, 17, 2, 14]\n"
     ]
    }
   ],
   "source": [
    "print(mazo)\n",
    "carta_sacadas = []\n",
    "suma_total = 0\n",
    "puntos = 10"
   ]
  },
  {
   "cell_type": "code",
   "execution_count": 35,
   "metadata": {},
   "outputs": [],
   "source": [
    "while suma_total < 20:\n",
    "    carta_sacada = mazo.pop()\n",
    "    carta_sacadas.append(carta_sacada)\n",
    "    suma_total = np.array(carta_sacadas).sum()\n",
    "num_cartas = len(carta_sacadas)-1\n",
    "\n",
    "if cant_sac == num_cartas:\n",
    "    print(\"Felicitaciones! Ganaste 10 puntos.\")\n",
    "if cant_sac < num_cartas: \n",
    "    puntos -= num_cartas - cant_sac\n",
    "    print(\"Felicitaciones! Ganaste\",puntos,\"puntos.\")   \n",
    "if cant_sac > num_cartas\n",
    "    print(\"Perdiste! Tus cartas han superado la suma de 20, no ganas puntos\")\n",
    "print(\"Las cartas que salieron fueron\")    "
   ]
  },
  {
   "cell_type": "code",
   "execution_count": 44,
   "metadata": {},
   "outputs": [
    {
     "name": "stdout",
     "output_type": "stream",
     "text": [
      "22\n",
      "[9, 7, 1]\n",
      "3\n"
     ]
    }
   ],
   "source": [
    "print(suma_total)\n",
    "print(carta_sacadas[:-1])\n",
    "num_cartas = len(carta_sacadas)-1\n",
    "print(num_cartas)"
   ]
  }
 ],
 "metadata": {
  "interpreter": {
   "hash": "2be5faf79681da6f2a61fdfdd5405d65d042280f7fba6178067603e3a2925119"
  },
  "kernelspec": {
   "display_name": "Python 3.10.4 64-bit",
   "language": "python",
   "name": "python3"
  },
  "language_info": {
   "codemirror_mode": {
    "name": "ipython",
    "version": 3
   },
   "file_extension": ".py",
   "mimetype": "text/x-python",
   "name": "python",
   "nbconvert_exporter": "python",
   "pygments_lexer": "ipython3",
   "version": "3.10.4"
  },
  "orig_nbformat": 4
 },
 "nbformat": 4,
 "nbformat_minor": 2
}
