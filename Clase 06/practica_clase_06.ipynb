{
 "cells": [
  {
   "cell_type": "code",
   "execution_count": 1,
   "metadata": {},
   "outputs": [],
   "source": [
    "class Node:\n",
    "    def __init__(self, val):\n",
    "        self.data = val\n",
    "        self.next = None\n",
    "\n",
    "    def getData(self):\n",
    "        return self.data\n",
    "\n",
    "    def getNext(self):\n",
    "        return self.next\n",
    "\n",
    "    def setData(self, val):\n",
    "        self.data = val\n",
    "\n",
    "    def setNext(self, val):\n",
    "        self.next = val"
   ]
  },
  {
   "cell_type": "code",
   "execution_count": 2,
   "metadata": {},
   "outputs": [
    {
     "name": "stdout",
     "output_type": "stream",
     "text": [
      "None\n"
     ]
    }
   ],
   "source": [
    "n1 = Node(8)\n",
    "n1.getData()\n",
    "print(n1.getNext())"
   ]
  },
  {
   "cell_type": "code",
   "execution_count": 19,
   "metadata": {},
   "outputs": [],
   "source": [
    "n1 = Node(8)\n",
    "n2 = Node(4)\n",
    "n3 = Node(1)\n"
   ]
  },
  {
   "cell_type": "code",
   "execution_count": 20,
   "metadata": {},
   "outputs": [],
   "source": [
    "n1.setNext(n2)\n",
    "n2.setNext(n3)"
   ]
  },
  {
   "cell_type": "code",
   "execution_count": 18,
   "metadata": {},
   "outputs": [
    {
     "data": {
      "text/plain": [
       "True"
      ]
     },
     "execution_count": 18,
     "metadata": {},
     "output_type": "execute_result"
    }
   ],
   "source": [
    "#print(id(n1.getNext()))\n",
    "#print(id(n2))\n",
    "n1.getNext()==n2"
   ]
  },
  {
   "cell_type": "code",
   "execution_count": 10,
   "metadata": {},
   "outputs": [
    {
     "name": "stdout",
     "output_type": "stream",
     "text": [
      "1602315040960 1602315040960\n",
      "[2, 3, 4, 7] [2, 3, 4, 7]\n"
     ]
    }
   ],
   "source": [
    "numero = [2,3,4]\n",
    "numero2 = numero\n",
    "numero2.append(7)\n",
    "print(id(numero), id(numero2))\n",
    "print(numero, numero2)"
   ]
  },
  {
   "cell_type": "code",
   "execution_count": 22,
   "metadata": {},
   "outputs": [
    {
     "name": "stdout",
     "output_type": "stream",
     "text": [
      "8\n",
      "4\n",
      "1\n"
     ]
    }
   ],
   "source": [
    "head = n1\n",
    "puntero = head\n",
    "while puntero.getNext() != None:\n",
    "   print(puntero.getData())\n",
    "   puntero = puntero.getNext()\n",
    "print(puntero.getData())"
   ]
  },
  {
   "cell_type": "code",
   "execution_count": 24,
   "metadata": {},
   "outputs": [],
   "source": [
    "class LinkedList:\n",
    "    def __init__(self):\n",
    "        self.head = None\n",
    "\n",
    "    def isEmpty(self):\n",
    "        \"\"\"Check if the list is empty\"\"\"\n",
    "        if (self.head == None):\n",
    "            return True\n",
    "        else:\n",
    "            return False\n",
    "\n",
    "    def add(self, item):\n",
    "        \"\"\"Add the item to the list\"\"\"\n",
    "        new_node = Node(item)\n",
    "        new_node.setNext(self.head)\n",
    "        self.head = new_node\n",
    "\n",
    "    def size(self):\n",
    "        \"\"\"Return the length/size of the list\"\"\"\n",
    "        count = 0\n",
    "        current = self.head\n",
    "        while (not(current == None)):\n",
    "            count += 1\n",
    "            current = current.getNext()\n",
    "        return count\n",
    "\n",
    "    def search(self, item):\n",
    "        \"\"\"Search for item in list. If found, return True. If not found, return False\"\"\"\n",
    "        current = self.head\n",
    "        found = False\n",
    "        while ((current != None) and (not found)):\n",
    "            if current.getData() is item:\n",
    "                found = True\n",
    "            else:\n",
    "                current = current.getNext()\n",
    "        return found\n",
    "\n",
    "    def remove(self, item):\n",
    "        \"\"\"Remove item from list. If item is not found in list, raise ValueError\"\"\"\n",
    "        current = self.head\n",
    "        previous = None\n",
    "        found = False\n",
    "        while((current != None) and (not found)):\n",
    "            if(current.getData() == item):\n",
    "                found = True\n",
    "            else:\n",
    "                previous = current\n",
    "                current = current.getNext()\n",
    "        if found:\n",
    "            if(previous == None):\n",
    "                self.head = current.getNext()\n",
    "            else:\n",
    "                previous.setNext(current.getNext())\n",
    "        else:\n",
    "            raise ValueError\n",
    "            print('Value not found.')\n",
    "\n",
    "    def insert(self, position, item):\n",
    "        \"\"\"\n",
    "        Insert item at position specified. If position specified is\n",
    "        out of bounds, raise IndexError\n",
    "        \"\"\"\n",
    "        if position > self.size() - 1:\n",
    "            raise IndexError\n",
    "            print('Index out of bounds.')\n",
    "        current = self.head\n",
    "        previous = None\n",
    "        pos = 0\n",
    "        if position == 0:\n",
    "            self.add(item)\n",
    "        else:\n",
    "            new_node = Node(item)\n",
    "            while pos < position:\n",
    "                pos += 1\n",
    "                previous = current\n",
    "                current = current.getNext()\n",
    "            previous.setNext(new_node)\n",
    "            new_node.setNext(current)\n",
    "\n",
    "    def index(self, item):\n",
    "        \"\"\"\n",
    "        Return the index where item is found.\n",
    "        If item is not found, return None.\n",
    "        \"\"\"\n",
    "        current = self.head\n",
    "        pos = 0\n",
    "        found = False\n",
    "        while ((current != None) and (not found)):\n",
    "            if (current.getData() == item):\n",
    "                found = True\n",
    "            else:\n",
    "                current = current.getNext()\n",
    "                pos += 1\n",
    "        if found:\n",
    "            pass\n",
    "        else:\n",
    "            pos = None\n",
    "        return pos\n",
    "\n",
    "    def pop(self, position = None):\n",
    "        \"\"\"\n",
    "        If no argument is provided, return and remove the item at the head. \n",
    "        If position is provided, return and remove the item at that position.\n",
    "        If index is out of bounds, raise IndexError\n",
    "        \"\"\"\n",
    "        current = self.head\n",
    "        if (position == None):\n",
    "            ret = current.getData()\n",
    "            self.head = current.getNext()\n",
    "        else:\n",
    "            if position > self.size():\n",
    "                print('Index out of bounds')\n",
    "                raise IndexError\n",
    "            pos = 0\n",
    "            previous = None\n",
    "            while pos < position:\n",
    "                previous = current\n",
    "                current = current.getNext()\n",
    "                pos += 1\n",
    "                ret = current.getData()\n",
    "            previous.setNext(current.getNext())\n",
    "        return ret\n",
    "\n",
    "    def append(self, item):\n",
    "        \"\"\"Append item to the end of the list\"\"\"\n",
    "        current = self.head\n",
    "        previous = None\n",
    "        pos = 0\n",
    "        length = self.size()\n",
    "        while pos < length:\n",
    "            previous = current\n",
    "            current = current.getNext()\n",
    "            pos += 1\n",
    "        new_node = Node(item)\n",
    "        if (previous == None):\n",
    "            new_node.setNext(current)\n",
    "            self.head = new_node\n",
    "        else:\n",
    "            previous.setNext(new_node)\n",
    "\n",
    "    def printList(self):\n",
    "        \"\"\"Print the list\"\"\"\n",
    "        current = self.head\n",
    "        while (not(current == None)):\n",
    "            print(current.getData())\n",
    "            current = current.getNext()"
   ]
  },
  {
   "cell_type": "code",
   "execution_count": 25,
   "metadata": {},
   "outputs": [],
   "source": [
    "lis = LinkedList()"
   ]
  },
  {
   "cell_type": "code",
   "execution_count": 26,
   "metadata": {},
   "outputs": [
    {
     "data": {
      "text/plain": [
       "True"
      ]
     },
     "execution_count": 26,
     "metadata": {},
     "output_type": "execute_result"
    }
   ],
   "source": [
    "lis.isEmpty()"
   ]
  },
  {
   "cell_type": "code",
   "execution_count": 27,
   "metadata": {},
   "outputs": [],
   "source": [
    "lis.add('rojo')"
   ]
  },
  {
   "cell_type": "code",
   "execution_count": 28,
   "metadata": {},
   "outputs": [
    {
     "data": {
      "text/plain": [
       "1"
      ]
     },
     "execution_count": 28,
     "metadata": {},
     "output_type": "execute_result"
    }
   ],
   "source": [
    "lis.size()"
   ]
  },
  {
   "cell_type": "code",
   "execution_count": 29,
   "metadata": {},
   "outputs": [],
   "source": [
    "lis.add('azul')\n",
    "lis.add('blanco')\n",
    "lis.add('verde')"
   ]
  },
  {
   "cell_type": "code",
   "execution_count": 30,
   "metadata": {},
   "outputs": [
    {
     "data": {
      "text/plain": [
       "True"
      ]
     },
     "execution_count": 30,
     "metadata": {},
     "output_type": "execute_result"
    }
   ],
   "source": [
    "lis.search('rojo')"
   ]
  },
  {
   "cell_type": "code",
   "execution_count": 32,
   "metadata": {},
   "outputs": [
    {
     "data": {
      "text/plain": [
       "True"
      ]
     },
     "execution_count": 32,
     "metadata": {},
     "output_type": "execute_result"
    }
   ],
   "source": [
    "lis.search('blanco')"
   ]
  },
  {
   "cell_type": "code",
   "execution_count": 39,
   "metadata": {},
   "outputs": [],
   "source": [
    "lis.remove('rojo')"
   ]
  },
  {
   "cell_type": "code",
   "execution_count": 40,
   "metadata": {},
   "outputs": [
    {
     "data": {
      "text/plain": [
       "False"
      ]
     },
     "execution_count": 40,
     "metadata": {},
     "output_type": "execute_result"
    }
   ],
   "source": [
    "lis.search('rojo')"
   ]
  },
  {
   "cell_type": "code",
   "execution_count": 33,
   "metadata": {},
   "outputs": [
    {
     "name": "stdout",
     "output_type": "stream",
     "text": [
      "verde\n",
      "blanco\n",
      "azul\n",
      "rojo\n"
     ]
    }
   ],
   "source": [
    "lis.printList()"
   ]
  },
  {
   "cell_type": "code",
   "execution_count": 42,
   "metadata": {},
   "outputs": [],
   "source": [
    "lis.insert(2,'rojo')"
   ]
  },
  {
   "cell_type": "code",
   "execution_count": 43,
   "metadata": {},
   "outputs": [
    {
     "name": "stdout",
     "output_type": "stream",
     "text": [
      "verde\n",
      "blanco\n",
      "rojo\n",
      "azul\n"
     ]
    }
   ],
   "source": [
    "lis.printList()"
   ]
  },
  {
   "cell_type": "code",
   "execution_count": 44,
   "metadata": {},
   "outputs": [
    {
     "data": {
      "text/plain": [
       "1"
      ]
     },
     "execution_count": 44,
     "metadata": {},
     "output_type": "execute_result"
    }
   ],
   "source": [
    "lis.index('blanco')"
   ]
  },
  {
   "cell_type": "code",
   "execution_count": 34,
   "metadata": {},
   "outputs": [
    {
     "data": {
      "text/plain": [
       "'verde'"
      ]
     },
     "execution_count": 34,
     "metadata": {},
     "output_type": "execute_result"
    }
   ],
   "source": [
    "lis.pop()"
   ]
  },
  {
   "cell_type": "code",
   "execution_count": 35,
   "metadata": {},
   "outputs": [
    {
     "name": "stdout",
     "output_type": "stream",
     "text": [
      "blanco\n",
      "azul\n",
      "rojo\n"
     ]
    }
   ],
   "source": [
    "lis.printList()"
   ]
  },
  {
   "cell_type": "code",
   "execution_count": 48,
   "metadata": {},
   "outputs": [],
   "source": [
    "lis.append('verde')"
   ]
  },
  {
   "cell_type": "code",
   "execution_count": 49,
   "metadata": {},
   "outputs": [
    {
     "name": "stdout",
     "output_type": "stream",
     "text": [
      "blanco\n",
      "rojo\n",
      "azul\n",
      "verde\n"
     ]
    }
   ],
   "source": [
    "lis.printList()"
   ]
  },
  {
   "cell_type": "code",
   "execution_count": 50,
   "metadata": {},
   "outputs": [],
   "source": [
    "lis.add('negro')"
   ]
  },
  {
   "cell_type": "code",
   "execution_count": 51,
   "metadata": {},
   "outputs": [
    {
     "name": "stdout",
     "output_type": "stream",
     "text": [
      "negro\n",
      "blanco\n",
      "rojo\n",
      "azul\n",
      "verde\n"
     ]
    }
   ],
   "source": [
    "lis.printList()"
   ]
  }
 ],
 "metadata": {
  "interpreter": {
   "hash": "11938c6bc6919ae2720b4d5011047913343b08a43b18698fd82dedb0d4417594"
  },
  "kernelspec": {
   "display_name": "Python 3.9.7 64-bit",
   "language": "python",
   "name": "python3"
  },
  "language_info": {
   "codemirror_mode": {
    "name": "ipython",
    "version": 3
   },
   "file_extension": ".py",
   "mimetype": "text/x-python",
   "name": "python",
   "nbconvert_exporter": "python",
   "pygments_lexer": "ipython3",
   "version": "3.9.7"
  },
  "orig_nbformat": 4
 },
 "nbformat": 4,
 "nbformat_minor": 2
}
